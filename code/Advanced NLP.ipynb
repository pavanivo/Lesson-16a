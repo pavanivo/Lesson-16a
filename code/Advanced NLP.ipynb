{
 "cells": [
  {
   "cell_type": "markdown",
   "metadata": {},
   "source": [
    "From DAT5: Kevin Markham class. Source, Kevin Markham GitHub"
   ]
  },
  {
   "cell_type": "markdown",
   "metadata": {},
   "source": [
    "# Natural Language Processing (NLP)"
   ]
  },
  {
   "cell_type": "markdown",
   "metadata": {},
   "source": [
    "What is NLP?\n",
    "* 'Natural language processing (NLP) is a field of computer science, artificial intelligence, and computational linguistics concerned with the interactions between computers and human (natural) languages. As such, NLP is related to the area of human–computer interaction. Many challenges in NLP involve natural language understanding, that is, enabling computers to derive meaning from human or natural language input...' - Wikipedia\n",
    "* Using computers to process (analyze, understand, generate) natural human languages (as opposed to unnatural computer languages).\n",
    "* NLP is concerned with the interface between human and computer language.  However, language is often ambiguous, so this isn't always a straightforward task.\n",
    "\n",
    "Why NLP?\n",
    "* Most knowledge created by humans is unstructured text, so we need some way to make sense of it.\n",
    "* Enables quantitative analysis of text data at large scale.\n",
    "* Provides a repeatable, \"unbiased\" way to look at text."
   ]
  },
  {
   "cell_type": "markdown",
   "metadata": {},
   "source": [
    "## Motivation"
   ]
  },
  {
   "cell_type": "markdown",
   "metadata": {},
   "source": [
    "For the purpose of this class, we can pretend we are Data Scientists working for Kaggle.  Everyone loves Kaggle, but we're interested into digging a little deeper into what the web is saying about Kaggle."
   ]
  },
  {
   "cell_type": "markdown",
   "metadata": {},
   "source": [
    "## Imports"
   ]
  },
  {
   "cell_type": "code",
   "execution_count": 3,
   "metadata": {},
   "outputs": [],
   "source": [
    "import tweepy # Twitter API wrapper\n",
    "import nltk # Classic NLP package"
   ]
  },
  {
   "cell_type": "markdown",
   "metadata": {},
   "source": [
    "## Getting Data"
   ]
  },
  {
   "cell_type": "code",
   "execution_count": 7,
   "metadata": {},
   "outputs": [
    {
     "name": "stdout",
     "output_type": "stream",
     "text": [
      "Status(_api=<tweepy.api.API object at 0x1a204a1a90>, _json={'created_at': 'Thu Sep 26 00:54:18 +0000 2019', 'id': 1177023558100410369, 'id_str': '1177023558100410369', 'text': \"RT @TeamTrump: VP @mike_pence: Democrats don't have an agenda, that's why they want to impeach @realDonaldTrump https://t.co/El9qOb6bkq\", 'truncated': False, 'entities': {'hashtags': [], 'symbols': [], 'user_mentions': [{'screen_name': 'TeamTrump', 'name': 'Team Trump', 'id': 729676086632656900, 'id_str': '729676086632656900', 'indices': [3, 13]}, {'screen_name': 'mike_pence', 'name': 'Mike Pence', 'id': 22203756, 'id_str': '22203756', 'indices': [18, 29]}, {'screen_name': 'realDonaldTrump', 'name': 'Donald J. Trump', 'id': 25073877, 'id_str': '25073877', 'indices': [95, 111]}], 'urls': [], 'media': [{'id': 1177010297581854720, 'id_str': '1177010297581854720', 'indices': [112, 135], 'media_url': 'http://pbs.twimg.com/ext_tw_video_thumb/1177010297581854720/pu/img/Dcaa-avGUUD7qtZ6.jpg', 'media_url_https': 'https://pbs.twimg.com/ext_tw_video_thumb/1177010297581854720/pu/img/Dcaa-avGUUD7qtZ6.jpg', 'url': 'https://t.co/El9qOb6bkq', 'display_url': 'pic.twitter.com/El9qOb6bkq', 'expanded_url': 'https://twitter.com/TeamTrump/status/1177010369136615424/video/1', 'type': 'photo', 'sizes': {'thumb': {'w': 150, 'h': 150, 'resize': 'crop'}, 'large': {'w': 640, 'h': 360, 'resize': 'fit'}, 'medium': {'w': 640, 'h': 360, 'resize': 'fit'}, 'small': {'w': 640, 'h': 360, 'resize': 'fit'}}, 'source_status_id': 1177010369136615424, 'source_status_id_str': '1177010369136615424', 'source_user_id': 729676086632656900, 'source_user_id_str': '729676086632656900'}]}, 'extended_entities': {'media': [{'id': 1177010297581854720, 'id_str': '1177010297581854720', 'indices': [112, 135], 'media_url': 'http://pbs.twimg.com/ext_tw_video_thumb/1177010297581854720/pu/img/Dcaa-avGUUD7qtZ6.jpg', 'media_url_https': 'https://pbs.twimg.com/ext_tw_video_thumb/1177010297581854720/pu/img/Dcaa-avGUUD7qtZ6.jpg', 'url': 'https://t.co/El9qOb6bkq', 'display_url': 'pic.twitter.com/El9qOb6bkq', 'expanded_url': 'https://twitter.com/TeamTrump/status/1177010369136615424/video/1', 'type': 'video', 'sizes': {'thumb': {'w': 150, 'h': 150, 'resize': 'crop'}, 'large': {'w': 640, 'h': 360, 'resize': 'fit'}, 'medium': {'w': 640, 'h': 360, 'resize': 'fit'}, 'small': {'w': 640, 'h': 360, 'resize': 'fit'}}, 'source_status_id': 1177010369136615424, 'source_status_id_str': '1177010369136615424', 'source_user_id': 729676086632656900, 'source_user_id_str': '729676086632656900', 'video_info': {'aspect_ratio': [16, 9], 'duration_millis': 94520, 'variants': [{'bitrate': 256000, 'content_type': 'video/mp4', 'url': 'https://video.twimg.com/ext_tw_video/1177010297581854720/pu/vid/480x270/hBwKy5MAoglQ7e_B.mp4?tag=10'}, {'bitrate': 832000, 'content_type': 'video/mp4', 'url': 'https://video.twimg.com/ext_tw_video/1177010297581854720/pu/vid/640x360/UoZZZu3b3BSh6YZ4.mp4?tag=10'}, {'content_type': 'application/x-mpegURL', 'url': 'https://video.twimg.com/ext_tw_video/1177010297581854720/pu/pl/wuMaHA0hhQLZ5RuB.m3u8?tag=10'}]}, 'additional_media_info': {'monetizable': False, 'source_user': {'id': 729676086632656900, 'id_str': '729676086632656900', 'name': 'Team Trump', 'screen_name': 'TeamTrump', 'location': 'USA', 'description': 'Welcome to Team Trump, the official Twitter for the Trump Campaign. Together, we will KEEP AMERICA GREAT! 🇺🇸', 'url': 'https://t.co/mZB2hymxC9', 'entities': {'url': {'urls': [{'url': 'https://t.co/mZB2hymxC9', 'expanded_url': 'http://www.DonaldJTrump.com', 'display_url': 'DonaldJTrump.com', 'indices': [0, 23]}]}, 'description': {'urls': []}}, 'protected': False, 'followers_count': 1182791, 'friends_count': 75, 'listed_count': 3054, 'created_at': 'Mon May 09 14:15:10 +0000 2016', 'favourites_count': 2567, 'utc_offset': None, 'time_zone': None, 'geo_enabled': True, 'verified': True, 'statuses_count': 14572, 'lang': None, 'contributors_enabled': False, 'is_translator': False, 'is_translation_enabled': False, 'profile_background_color': '000000', 'profile_background_image_url': 'http://abs.twimg.com/images/themes/theme1/bg.png', 'profile_background_image_url_https': 'https://abs.twimg.com/images/themes/theme1/bg.png', 'profile_background_tile': False, 'profile_image_url': 'http://pbs.twimg.com/profile_images/745768799849308160/KrZhjkpH_normal.jpg', 'profile_image_url_https': 'https://pbs.twimg.com/profile_images/745768799849308160/KrZhjkpH_normal.jpg', 'profile_banner_url': 'https://pbs.twimg.com/profile_banners/729676086632656900/1564436211', 'profile_link_color': 'CB0606', 'profile_sidebar_border_color': '000000', 'profile_sidebar_fill_color': '000000', 'profile_text_color': '000000', 'profile_use_background_image': False, 'has_extended_profile': False, 'default_profile': False, 'default_profile_image': False, 'following': None, 'follow_request_sent': None, 'notifications': None, 'translator_type': 'none'}}}]}, 'metadata': {'iso_language_code': 'en', 'result_type': 'recent'}, 'source': '<a href=\"http://twitter.com/download/android\" rel=\"nofollow\">Twitter for Android</a>', 'in_reply_to_status_id': None, 'in_reply_to_status_id_str': None, 'in_reply_to_user_id': None, 'in_reply_to_user_id_str': None, 'in_reply_to_screen_name': None, 'user': {'id': 2822217000, 'id_str': '2822217000', 'name': 'Bg G', 'screen_name': '9bb2e5c43a21469', 'location': '', 'description': '', 'url': None, 'entities': {'description': {'urls': []}}, 'protected': False, 'followers_count': 55, 'friends_count': 61, 'listed_count': 2, 'created_at': 'Sat Sep 20 16:14:04 +0000 2014', 'favourites_count': 15958, 'utc_offset': None, 'time_zone': None, 'geo_enabled': True, 'verified': False, 'statuses_count': 20584, 'lang': None, 'contributors_enabled': False, 'is_translator': False, 'is_translation_enabled': False, 'profile_background_color': 'C0DEED', 'profile_background_image_url': 'http://abs.twimg.com/images/themes/theme1/bg.png', 'profile_background_image_url_https': 'https://abs.twimg.com/images/themes/theme1/bg.png', 'profile_background_tile': False, 'profile_image_url': 'http://pbs.twimg.com/profile_images/1036291461095018496/hAGSO2f3_normal.jpg', 'profile_image_url_https': 'https://pbs.twimg.com/profile_images/1036291461095018496/hAGSO2f3_normal.jpg', 'profile_link_color': '1DA1F2', 'profile_sidebar_border_color': 'C0DEED', 'profile_sidebar_fill_color': 'DDEEF6', 'profile_text_color': '333333', 'profile_use_background_image': True, 'has_extended_profile': False, 'default_profile': True, 'default_profile_image': False, 'following': None, 'follow_request_sent': None, 'notifications': None, 'translator_type': 'none'}, 'geo': None, 'coordinates': None, 'place': None, 'contributors': None, 'retweeted_status': {'created_at': 'Thu Sep 26 00:01:54 +0000 2019', 'id': 1177010369136615424, 'id_str': '1177010369136615424', 'text': \"VP @mike_pence: Democrats don't have an agenda, that's why they want to impeach @realDonaldTrump https://t.co/El9qOb6bkq\", 'truncated': False, 'entities': {'hashtags': [], 'symbols': [], 'user_mentions': [{'screen_name': 'mike_pence', 'name': 'Mike Pence', 'id': 22203756, 'id_str': '22203756', 'indices': [3, 14]}, {'screen_name': 'realDonaldTrump', 'name': 'Donald J. Trump', 'id': 25073877, 'id_str': '25073877', 'indices': [80, 96]}], 'urls': [], 'media': [{'id': 1177010297581854720, 'id_str': '1177010297581854720', 'indices': [97, 120], 'media_url': 'http://pbs.twimg.com/ext_tw_video_thumb/1177010297581854720/pu/img/Dcaa-avGUUD7qtZ6.jpg', 'media_url_https': 'https://pbs.twimg.com/ext_tw_video_thumb/1177010297581854720/pu/img/Dcaa-avGUUD7qtZ6.jpg', 'url': 'https://t.co/El9qOb6bkq', 'display_url': 'pic.twitter.com/El9qOb6bkq', 'expanded_url': 'https://twitter.com/TeamTrump/status/1177010369136615424/video/1', 'type': 'photo', 'sizes': {'thumb': {'w': 150, 'h': 150, 'resize': 'crop'}, 'large': {'w': 640, 'h': 360, 'resize': 'fit'}, 'medium': {'w': 640, 'h': 360, 'resize': 'fit'}, 'small': {'w': 640, 'h': 360, 'resize': 'fit'}}}]}, 'extended_entities': {'media': [{'id': 1177010297581854720, 'id_str': '1177010297581854720', 'indices': [97, 120], 'media_url': 'http://pbs.twimg.com/ext_tw_video_thumb/1177010297581854720/pu/img/Dcaa-avGUUD7qtZ6.jpg', 'media_url_https': 'https://pbs.twimg.com/ext_tw_video_thumb/1177010297581854720/pu/img/Dcaa-avGUUD7qtZ6.jpg', 'url': 'https://t.co/El9qOb6bkq', 'display_url': 'pic.twitter.com/El9qOb6bkq', 'expanded_url': 'https://twitter.com/TeamTrump/status/1177010369136615424/video/1', 'type': 'video', 'sizes': {'thumb': {'w': 150, 'h': 150, 'resize': 'crop'}, 'large': {'w': 640, 'h': 360, 'resize': 'fit'}, 'medium': {'w': 640, 'h': 360, 'resize': 'fit'}, 'small': {'w': 640, 'h': 360, 'resize': 'fit'}}, 'video_info': {'aspect_ratio': [16, 9], 'duration_millis': 94520, 'variants': [{'bitrate': 256000, 'content_type': 'video/mp4', 'url': 'https://video.twimg.com/ext_tw_video/1177010297581854720/pu/vid/480x270/hBwKy5MAoglQ7e_B.mp4?tag=10'}, {'bitrate': 832000, 'content_type': 'video/mp4', 'url': 'https://video.twimg.com/ext_tw_video/1177010297581854720/pu/vid/640x360/UoZZZu3b3BSh6YZ4.mp4?tag=10'}, {'content_type': 'application/x-mpegURL', 'url': 'https://video.twimg.com/ext_tw_video/1177010297581854720/pu/pl/wuMaHA0hhQLZ5RuB.m3u8?tag=10'}]}, 'additional_media_info': {'monetizable': False}}]}, 'metadata': {'iso_language_code': 'en', 'result_type': 'recent'}, 'source': '<a href=\"https://mobile.twitter.com\" rel=\"nofollow\">Twitter Web App</a>', 'in_reply_to_status_id': None, 'in_reply_to_status_id_str': None, 'in_reply_to_user_id': None, 'in_reply_to_user_id_str': None, 'in_reply_to_screen_name': None, 'user': {'id': 729676086632656900, 'id_str': '729676086632656900', 'name': 'Team Trump', 'screen_name': 'TeamTrump', 'location': 'USA', 'description': 'Welcome to Team Trump, the official Twitter for the Trump Campaign. Together, we will KEEP AMERICA GREAT! 🇺🇸', 'url': 'https://t.co/mZB2hymxC9', 'entities': {'url': {'urls': [{'url': 'https://t.co/mZB2hymxC9', 'expanded_url': 'http://www.DonaldJTrump.com', 'display_url': 'DonaldJTrump.com', 'indices': [0, 23]}]}, 'description': {'urls': []}}, 'protected': False, 'followers_count': 1182791, 'friends_count': 75, 'listed_count': 3054, 'created_at': 'Mon May 09 14:15:10 +0000 2016', 'favourites_count': 2567, 'utc_offset': None, 'time_zone': None, 'geo_enabled': True, 'verified': True, 'statuses_count': 14572, 'lang': None, 'contributors_enabled': False, 'is_translator': False, 'is_translation_enabled': False, 'profile_background_color': '000000', 'profile_background_image_url': 'http://abs.twimg.com/images/themes/theme1/bg.png', 'profile_background_image_url_https': 'https://abs.twimg.com/images/themes/theme1/bg.png', 'profile_background_tile': False, 'profile_image_url': 'http://pbs.twimg.com/profile_images/745768799849308160/KrZhjkpH_normal.jpg', 'profile_image_url_https': 'https://pbs.twimg.com/profile_images/745768799849308160/KrZhjkpH_normal.jpg', 'profile_banner_url': 'https://pbs.twimg.com/profile_banners/729676086632656900/1564436211', 'profile_link_color': 'CB0606', 'profile_sidebar_border_color': '000000', 'profile_sidebar_fill_color': '000000', 'profile_text_color': '000000', 'profile_use_background_image': False, 'has_extended_profile': False, 'default_profile': False, 'default_profile_image': False, 'following': None, 'follow_request_sent': None, 'notifications': None, 'translator_type': 'none'}, 'geo': None, 'coordinates': None, 'place': None, 'contributors': None, 'is_quote_status': False, 'retweet_count': 325, 'favorite_count': 991, 'favorited': False, 'retweeted': False, 'possibly_sensitive': False, 'lang': 'en'}, 'is_quote_status': False, 'retweet_count': 325, 'favorite_count': 0, 'favorited': False, 'retweeted': False, 'possibly_sensitive': False, 'lang': 'en'}, created_at=datetime.datetime(2019, 9, 26, 0, 54, 18), id=1177023558100410369, id_str='1177023558100410369', text=\"RT @TeamTrump: VP @mike_pence: Democrats don't have an agenda, that's why they want to impeach @realDonaldTrump https://t.co/El9qOb6bkq\", truncated=False, entities={'hashtags': [], 'symbols': [], 'user_mentions': [{'screen_name': 'TeamTrump', 'name': 'Team Trump', 'id': 729676086632656900, 'id_str': '729676086632656900', 'indices': [3, 13]}, {'screen_name': 'mike_pence', 'name': 'Mike Pence', 'id': 22203756, 'id_str': '22203756', 'indices': [18, 29]}, {'screen_name': 'realDonaldTrump', 'name': 'Donald J. Trump', 'id': 25073877, 'id_str': '25073877', 'indices': [95, 111]}], 'urls': [], 'media': [{'id': 1177010297581854720, 'id_str': '1177010297581854720', 'indices': [112, 135], 'media_url': 'http://pbs.twimg.com/ext_tw_video_thumb/1177010297581854720/pu/img/Dcaa-avGUUD7qtZ6.jpg', 'media_url_https': 'https://pbs.twimg.com/ext_tw_video_thumb/1177010297581854720/pu/img/Dcaa-avGUUD7qtZ6.jpg', 'url': 'https://t.co/El9qOb6bkq', 'display_url': 'pic.twitter.com/El9qOb6bkq', 'expanded_url': 'https://twitter.com/TeamTrump/status/1177010369136615424/video/1', 'type': 'photo', 'sizes': {'thumb': {'w': 150, 'h': 150, 'resize': 'crop'}, 'large': {'w': 640, 'h': 360, 'resize': 'fit'}, 'medium': {'w': 640, 'h': 360, 'resize': 'fit'}, 'small': {'w': 640, 'h': 360, 'resize': 'fit'}}, 'source_status_id': 1177010369136615424, 'source_status_id_str': '1177010369136615424', 'source_user_id': 729676086632656900, 'source_user_id_str': '729676086632656900'}]}, extended_entities={'media': [{'id': 1177010297581854720, 'id_str': '1177010297581854720', 'indices': [112, 135], 'media_url': 'http://pbs.twimg.com/ext_tw_video_thumb/1177010297581854720/pu/img/Dcaa-avGUUD7qtZ6.jpg', 'media_url_https': 'https://pbs.twimg.com/ext_tw_video_thumb/1177010297581854720/pu/img/Dcaa-avGUUD7qtZ6.jpg', 'url': 'https://t.co/El9qOb6bkq', 'display_url': 'pic.twitter.com/El9qOb6bkq', 'expanded_url': 'https://twitter.com/TeamTrump/status/1177010369136615424/video/1', 'type': 'video', 'sizes': {'thumb': {'w': 150, 'h': 150, 'resize': 'crop'}, 'large': {'w': 640, 'h': 360, 'resize': 'fit'}, 'medium': {'w': 640, 'h': 360, 'resize': 'fit'}, 'small': {'w': 640, 'h': 360, 'resize': 'fit'}}, 'source_status_id': 1177010369136615424, 'source_status_id_str': '1177010369136615424', 'source_user_id': 729676086632656900, 'source_user_id_str': '729676086632656900', 'video_info': {'aspect_ratio': [16, 9], 'duration_millis': 94520, 'variants': [{'bitrate': 256000, 'content_type': 'video/mp4', 'url': 'https://video.twimg.com/ext_tw_video/1177010297581854720/pu/vid/480x270/hBwKy5MAoglQ7e_B.mp4?tag=10'}, {'bitrate': 832000, 'content_type': 'video/mp4', 'url': 'https://video.twimg.com/ext_tw_video/1177010297581854720/pu/vid/640x360/UoZZZu3b3BSh6YZ4.mp4?tag=10'}, {'content_type': 'application/x-mpegURL', 'url': 'https://video.twimg.com/ext_tw_video/1177010297581854720/pu/pl/wuMaHA0hhQLZ5RuB.m3u8?tag=10'}]}, 'additional_media_info': {'monetizable': False, 'source_user': {'id': 729676086632656900, 'id_str': '729676086632656900', 'name': 'Team Trump', 'screen_name': 'TeamTrump', 'location': 'USA', 'description': 'Welcome to Team Trump, the official Twitter for the Trump Campaign. Together, we will KEEP AMERICA GREAT! 🇺🇸', 'url': 'https://t.co/mZB2hymxC9', 'entities': {'url': {'urls': [{'url': 'https://t.co/mZB2hymxC9', 'expanded_url': 'http://www.DonaldJTrump.com', 'display_url': 'DonaldJTrump.com', 'indices': [0, 23]}]}, 'description': {'urls': []}}, 'protected': False, 'followers_count': 1182791, 'friends_count': 75, 'listed_count': 3054, 'created_at': 'Mon May 09 14:15:10 +0000 2016', 'favourites_count': 2567, 'utc_offset': None, 'time_zone': None, 'geo_enabled': True, 'verified': True, 'statuses_count': 14572, 'lang': None, 'contributors_enabled': False, 'is_translator': False, 'is_translation_enabled': False, 'profile_background_color': '000000', 'profile_background_image_url': 'http://abs.twimg.com/images/themes/theme1/bg.png', 'profile_background_image_url_https': 'https://abs.twimg.com/images/themes/theme1/bg.png', 'profile_background_tile': False, 'profile_image_url': 'http://pbs.twimg.com/profile_images/745768799849308160/KrZhjkpH_normal.jpg', 'profile_image_url_https': 'https://pbs.twimg.com/profile_images/745768799849308160/KrZhjkpH_normal.jpg', 'profile_banner_url': 'https://pbs.twimg.com/profile_banners/729676086632656900/1564436211', 'profile_link_color': 'CB0606', 'profile_sidebar_border_color': '000000', 'profile_sidebar_fill_color': '000000', 'profile_text_color': '000000', 'profile_use_background_image': False, 'has_extended_profile': False, 'default_profile': False, 'default_profile_image': False, 'following': None, 'follow_request_sent': None, 'notifications': None, 'translator_type': 'none'}}}]}, metadata={'iso_language_code': 'en', 'result_type': 'recent'}, source='Twitter for Android', source_url='http://twitter.com/download/android', in_reply_to_status_id=None, in_reply_to_status_id_str=None, in_reply_to_user_id=None, in_reply_to_user_id_str=None, in_reply_to_screen_name=None, author=User(_api=<tweepy.api.API object at 0x1a204a1a90>, _json={'id': 2822217000, 'id_str': '2822217000', 'name': 'Bg G', 'screen_name': '9bb2e5c43a21469', 'location': '', 'description': '', 'url': None, 'entities': {'description': {'urls': []}}, 'protected': False, 'followers_count': 55, 'friends_count': 61, 'listed_count': 2, 'created_at': 'Sat Sep 20 16:14:04 +0000 2014', 'favourites_count': 15958, 'utc_offset': None, 'time_zone': None, 'geo_enabled': True, 'verified': False, 'statuses_count': 20584, 'lang': None, 'contributors_enabled': False, 'is_translator': False, 'is_translation_enabled': False, 'profile_background_color': 'C0DEED', 'profile_background_image_url': 'http://abs.twimg.com/images/themes/theme1/bg.png', 'profile_background_image_url_https': 'https://abs.twimg.com/images/themes/theme1/bg.png', 'profile_background_tile': False, 'profile_image_url': 'http://pbs.twimg.com/profile_images/1036291461095018496/hAGSO2f3_normal.jpg', 'profile_image_url_https': 'https://pbs.twimg.com/profile_images/1036291461095018496/hAGSO2f3_normal.jpg', 'profile_link_color': '1DA1F2', 'profile_sidebar_border_color': 'C0DEED', 'profile_sidebar_fill_color': 'DDEEF6', 'profile_text_color': '333333', 'profile_use_background_image': True, 'has_extended_profile': False, 'default_profile': True, 'default_profile_image': False, 'following': None, 'follow_request_sent': None, 'notifications': None, 'translator_type': 'none'}, id=2822217000, id_str='2822217000', name='Bg G', screen_name='9bb2e5c43a21469', location='', description='', url=None, entities={'description': {'urls': []}}, protected=False, followers_count=55, friends_count=61, listed_count=2, created_at=datetime.datetime(2014, 9, 20, 16, 14, 4), favourites_count=15958, utc_offset=None, time_zone=None, geo_enabled=True, verified=False, statuses_count=20584, lang=None, contributors_enabled=False, is_translator=False, is_translation_enabled=False, profile_background_color='C0DEED', profile_background_image_url='http://abs.twimg.com/images/themes/theme1/bg.png', profile_background_image_url_https='https://abs.twimg.com/images/themes/theme1/bg.png', profile_background_tile=False, profile_image_url='http://pbs.twimg.com/profile_images/1036291461095018496/hAGSO2f3_normal.jpg', profile_image_url_https='https://pbs.twimg.com/profile_images/1036291461095018496/hAGSO2f3_normal.jpg', profile_link_color='1DA1F2', profile_sidebar_border_color='C0DEED', profile_sidebar_fill_color='DDEEF6', profile_text_color='333333', profile_use_background_image=True, has_extended_profile=False, default_profile=True, default_profile_image=False, following=False, follow_request_sent=None, notifications=None, translator_type='none'), user=User(_api=<tweepy.api.API object at 0x1a204a1a90>, _json={'id': 2822217000, 'id_str': '2822217000', 'name': 'Bg G', 'screen_name': '9bb2e5c43a21469', 'location': '', 'description': '', 'url': None, 'entities': {'description': {'urls': []}}, 'protected': False, 'followers_count': 55, 'friends_count': 61, 'listed_count': 2, 'created_at': 'Sat Sep 20 16:14:04 +0000 2014', 'favourites_count': 15958, 'utc_offset': None, 'time_zone': None, 'geo_enabled': True, 'verified': False, 'statuses_count': 20584, 'lang': None, 'contributors_enabled': False, 'is_translator': False, 'is_translation_enabled': False, 'profile_background_color': 'C0DEED', 'profile_background_image_url': 'http://abs.twimg.com/images/themes/theme1/bg.png', 'profile_background_image_url_https': 'https://abs.twimg.com/images/themes/theme1/bg.png', 'profile_background_tile': False, 'profile_image_url': 'http://pbs.twimg.com/profile_images/1036291461095018496/hAGSO2f3_normal.jpg', 'profile_image_url_https': 'https://pbs.twimg.com/profile_images/1036291461095018496/hAGSO2f3_normal.jpg', 'profile_link_color': '1DA1F2', 'profile_sidebar_border_color': 'C0DEED', 'profile_sidebar_fill_color': 'DDEEF6', 'profile_text_color': '333333', 'profile_use_background_image': True, 'has_extended_profile': False, 'default_profile': True, 'default_profile_image': False, 'following': None, 'follow_request_sent': None, 'notifications': None, 'translator_type': 'none'}, id=2822217000, id_str='2822217000', name='Bg G', screen_name='9bb2e5c43a21469', location='', description='', url=None, entities={'description': {'urls': []}}, protected=False, followers_count=55, friends_count=61, listed_count=2, created_at=datetime.datetime(2014, 9, 20, 16, 14, 4), favourites_count=15958, utc_offset=None, time_zone=None, geo_enabled=True, verified=False, statuses_count=20584, lang=None, contributors_enabled=False, is_translator=False, is_translation_enabled=False, profile_background_color='C0DEED', profile_background_image_url='http://abs.twimg.com/images/themes/theme1/bg.png', profile_background_image_url_https='https://abs.twimg.com/images/themes/theme1/bg.png', profile_background_tile=False, profile_image_url='http://pbs.twimg.com/profile_images/1036291461095018496/hAGSO2f3_normal.jpg', profile_image_url_https='https://pbs.twimg.com/profile_images/1036291461095018496/hAGSO2f3_normal.jpg', profile_link_color='1DA1F2', profile_sidebar_border_color='C0DEED', profile_sidebar_fill_color='DDEEF6', profile_text_color='333333', profile_use_background_image=True, has_extended_profile=False, default_profile=True, default_profile_image=False, following=False, follow_request_sent=None, notifications=None, translator_type='none'), geo=None, coordinates=None, place=None, contributors=None, retweeted_status=Status(_api=<tweepy.api.API object at 0x1a204a1a90>, _json={'created_at': 'Thu Sep 26 00:01:54 +0000 2019', 'id': 1177010369136615424, 'id_str': '1177010369136615424', 'text': \"VP @mike_pence: Democrats don't have an agenda, that's why they want to impeach @realDonaldTrump https://t.co/El9qOb6bkq\", 'truncated': False, 'entities': {'hashtags': [], 'symbols': [], 'user_mentions': [{'screen_name': 'mike_pence', 'name': 'Mike Pence', 'id': 22203756, 'id_str': '22203756', 'indices': [3, 14]}, {'screen_name': 'realDonaldTrump', 'name': 'Donald J. Trump', 'id': 25073877, 'id_str': '25073877', 'indices': [80, 96]}], 'urls': [], 'media': [{'id': 1177010297581854720, 'id_str': '1177010297581854720', 'indices': [97, 120], 'media_url': 'http://pbs.twimg.com/ext_tw_video_thumb/1177010297581854720/pu/img/Dcaa-avGUUD7qtZ6.jpg', 'media_url_https': 'https://pbs.twimg.com/ext_tw_video_thumb/1177010297581854720/pu/img/Dcaa-avGUUD7qtZ6.jpg', 'url': 'https://t.co/El9qOb6bkq', 'display_url': 'pic.twitter.com/El9qOb6bkq', 'expanded_url': 'https://twitter.com/TeamTrump/status/1177010369136615424/video/1', 'type': 'photo', 'sizes': {'thumb': {'w': 150, 'h': 150, 'resize': 'crop'}, 'large': {'w': 640, 'h': 360, 'resize': 'fit'}, 'medium': {'w': 640, 'h': 360, 'resize': 'fit'}, 'small': {'w': 640, 'h': 360, 'resize': 'fit'}}}]}, 'extended_entities': {'media': [{'id': 1177010297581854720, 'id_str': '1177010297581854720', 'indices': [97, 120], 'media_url': 'http://pbs.twimg.com/ext_tw_video_thumb/1177010297581854720/pu/img/Dcaa-avGUUD7qtZ6.jpg', 'media_url_https': 'https://pbs.twimg.com/ext_tw_video_thumb/1177010297581854720/pu/img/Dcaa-avGUUD7qtZ6.jpg', 'url': 'https://t.co/El9qOb6bkq', 'display_url': 'pic.twitter.com/El9qOb6bkq', 'expanded_url': 'https://twitter.com/TeamTrump/status/1177010369136615424/video/1', 'type': 'video', 'sizes': {'thumb': {'w': 150, 'h': 150, 'resize': 'crop'}, 'large': {'w': 640, 'h': 360, 'resize': 'fit'}, 'medium': {'w': 640, 'h': 360, 'resize': 'fit'}, 'small': {'w': 640, 'h': 360, 'resize': 'fit'}}, 'video_info': {'aspect_ratio': [16, 9], 'duration_millis': 94520, 'variants': [{'bitrate': 256000, 'content_type': 'video/mp4', 'url': 'https://video.twimg.com/ext_tw_video/1177010297581854720/pu/vid/480x270/hBwKy5MAoglQ7e_B.mp4?tag=10'}, {'bitrate': 832000, 'content_type': 'video/mp4', 'url': 'https://video.twimg.com/ext_tw_video/1177010297581854720/pu/vid/640x360/UoZZZu3b3BSh6YZ4.mp4?tag=10'}, {'content_type': 'application/x-mpegURL', 'url': 'https://video.twimg.com/ext_tw_video/1177010297581854720/pu/pl/wuMaHA0hhQLZ5RuB.m3u8?tag=10'}]}, 'additional_media_info': {'monetizable': False}}]}, 'metadata': {'iso_language_code': 'en', 'result_type': 'recent'}, 'source': '<a href=\"https://mobile.twitter.com\" rel=\"nofollow\">Twitter Web App</a>', 'in_reply_to_status_id': None, 'in_reply_to_status_id_str': None, 'in_reply_to_user_id': None, 'in_reply_to_user_id_str': None, 'in_reply_to_screen_name': None, 'user': {'id': 729676086632656900, 'id_str': '729676086632656900', 'name': 'Team Trump', 'screen_name': 'TeamTrump', 'location': 'USA', 'description': 'Welcome to Team Trump, the official Twitter for the Trump Campaign. Together, we will KEEP AMERICA GREAT! 🇺🇸', 'url': 'https://t.co/mZB2hymxC9', 'entities': {'url': {'urls': [{'url': 'https://t.co/mZB2hymxC9', 'expanded_url': 'http://www.DonaldJTrump.com', 'display_url': 'DonaldJTrump.com', 'indices': [0, 23]}]}, 'description': {'urls': []}}, 'protected': False, 'followers_count': 1182791, 'friends_count': 75, 'listed_count': 3054, 'created_at': 'Mon May 09 14:15:10 +0000 2016', 'favourites_count': 2567, 'utc_offset': None, 'time_zone': None, 'geo_enabled': True, 'verified': True, 'statuses_count': 14572, 'lang': None, 'contributors_enabled': False, 'is_translator': False, 'is_translation_enabled': False, 'profile_background_color': '000000', 'profile_background_image_url': 'http://abs.twimg.com/images/themes/theme1/bg.png', 'profile_background_image_url_https': 'https://abs.twimg.com/images/themes/theme1/bg.png', 'profile_background_tile': False, 'profile_image_url': 'http://pbs.twimg.com/profile_images/745768799849308160/KrZhjkpH_normal.jpg', 'profile_image_url_https': 'https://pbs.twimg.com/profile_images/745768799849308160/KrZhjkpH_normal.jpg', 'profile_banner_url': 'https://pbs.twimg.com/profile_banners/729676086632656900/1564436211', 'profile_link_color': 'CB0606', 'profile_sidebar_border_color': '000000', 'profile_sidebar_fill_color': '000000', 'profile_text_color': '000000', 'profile_use_background_image': False, 'has_extended_profile': False, 'default_profile': False, 'default_profile_image': False, 'following': None, 'follow_request_sent': None, 'notifications': None, 'translator_type': 'none'}, 'geo': None, 'coordinates': None, 'place': None, 'contributors': None, 'is_quote_status': False, 'retweet_count': 325, 'favorite_count': 991, 'favorited': False, 'retweeted': False, 'possibly_sensitive': False, 'lang': 'en'}, created_at=datetime.datetime(2019, 9, 26, 0, 1, 54), id=1177010369136615424, id_str='1177010369136615424', text=\"VP @mike_pence: Democrats don't have an agenda, that's why they want to impeach @realDonaldTrump https://t.co/El9qOb6bkq\", truncated=False, entities={'hashtags': [], 'symbols': [], 'user_mentions': [{'screen_name': 'mike_pence', 'name': 'Mike Pence', 'id': 22203756, 'id_str': '22203756', 'indices': [3, 14]}, {'screen_name': 'realDonaldTrump', 'name': 'Donald J. Trump', 'id': 25073877, 'id_str': '25073877', 'indices': [80, 96]}], 'urls': [], 'media': [{'id': 1177010297581854720, 'id_str': '1177010297581854720', 'indices': [97, 120], 'media_url': 'http://pbs.twimg.com/ext_tw_video_thumb/1177010297581854720/pu/img/Dcaa-avGUUD7qtZ6.jpg', 'media_url_https': 'https://pbs.twimg.com/ext_tw_video_thumb/1177010297581854720/pu/img/Dcaa-avGUUD7qtZ6.jpg', 'url': 'https://t.co/El9qOb6bkq', 'display_url': 'pic.twitter.com/El9qOb6bkq', 'expanded_url': 'https://twitter.com/TeamTrump/status/1177010369136615424/video/1', 'type': 'photo', 'sizes': {'thumb': {'w': 150, 'h': 150, 'resize': 'crop'}, 'large': {'w': 640, 'h': 360, 'resize': 'fit'}, 'medium': {'w': 640, 'h': 360, 'resize': 'fit'}, 'small': {'w': 640, 'h': 360, 'resize': 'fit'}}}]}, extended_entities={'media': [{'id': 1177010297581854720, 'id_str': '1177010297581854720', 'indices': [97, 120], 'media_url': 'http://pbs.twimg.com/ext_tw_video_thumb/1177010297581854720/pu/img/Dcaa-avGUUD7qtZ6.jpg', 'media_url_https': 'https://pbs.twimg.com/ext_tw_video_thumb/1177010297581854720/pu/img/Dcaa-avGUUD7qtZ6.jpg', 'url': 'https://t.co/El9qOb6bkq', 'display_url': 'pic.twitter.com/El9qOb6bkq', 'expanded_url': 'https://twitter.com/TeamTrump/status/1177010369136615424/video/1', 'type': 'video', 'sizes': {'thumb': {'w': 150, 'h': 150, 'resize': 'crop'}, 'large': {'w': 640, 'h': 360, 'resize': 'fit'}, 'medium': {'w': 640, 'h': 360, 'resize': 'fit'}, 'small': {'w': 640, 'h': 360, 'resize': 'fit'}}, 'video_info': {'aspect_ratio': [16, 9], 'duration_millis': 94520, 'variants': [{'bitrate': 256000, 'content_type': 'video/mp4', 'url': 'https://video.twimg.com/ext_tw_video/1177010297581854720/pu/vid/480x270/hBwKy5MAoglQ7e_B.mp4?tag=10'}, {'bitrate': 832000, 'content_type': 'video/mp4', 'url': 'https://video.twimg.com/ext_tw_video/1177010297581854720/pu/vid/640x360/UoZZZu3b3BSh6YZ4.mp4?tag=10'}, {'content_type': 'application/x-mpegURL', 'url': 'https://video.twimg.com/ext_tw_video/1177010297581854720/pu/pl/wuMaHA0hhQLZ5RuB.m3u8?tag=10'}]}, 'additional_media_info': {'monetizable': False}}]}, metadata={'iso_language_code': 'en', 'result_type': 'recent'}, source='Twitter Web App', source_url='https://mobile.twitter.com', in_reply_to_status_id=None, in_reply_to_status_id_str=None, in_reply_to_user_id=None, in_reply_to_user_id_str=None, in_reply_to_screen_name=None, author=User(_api=<tweepy.api.API object at 0x1a204a1a90>, _json={'id': 729676086632656900, 'id_str': '729676086632656900', 'name': 'Team Trump', 'screen_name': 'TeamTrump', 'location': 'USA', 'description': 'Welcome to Team Trump, the official Twitter for the Trump Campaign. Together, we will KEEP AMERICA GREAT! 🇺🇸', 'url': 'https://t.co/mZB2hymxC9', 'entities': {'url': {'urls': [{'url': 'https://t.co/mZB2hymxC9', 'expanded_url': 'http://www.DonaldJTrump.com', 'display_url': 'DonaldJTrump.com', 'indices': [0, 23]}]}, 'description': {'urls': []}}, 'protected': False, 'followers_count': 1182791, 'friends_count': 75, 'listed_count': 3054, 'created_at': 'Mon May 09 14:15:10 +0000 2016', 'favourites_count': 2567, 'utc_offset': None, 'time_zone': None, 'geo_enabled': True, 'verified': True, 'statuses_count': 14572, 'lang': None, 'contributors_enabled': False, 'is_translator': False, 'is_translation_enabled': False, 'profile_background_color': '000000', 'profile_background_image_url': 'http://abs.twimg.com/images/themes/theme1/bg.png', 'profile_background_image_url_https': 'https://abs.twimg.com/images/themes/theme1/bg.png', 'profile_background_tile': False, 'profile_image_url': 'http://pbs.twimg.com/profile_images/745768799849308160/KrZhjkpH_normal.jpg', 'profile_image_url_https': 'https://pbs.twimg.com/profile_images/745768799849308160/KrZhjkpH_normal.jpg', 'profile_banner_url': 'https://pbs.twimg.com/profile_banners/729676086632656900/1564436211', 'profile_link_color': 'CB0606', 'profile_sidebar_border_color': '000000', 'profile_sidebar_fill_color': '000000', 'profile_text_color': '000000', 'profile_use_background_image': False, 'has_extended_profile': False, 'default_profile': False, 'default_profile_image': False, 'following': None, 'follow_request_sent': None, 'notifications': None, 'translator_type': 'none'}, id=729676086632656900, id_str='729676086632656900', name='Team Trump', screen_name='TeamTrump', location='USA', description='Welcome to Team Trump, the official Twitter for the Trump Campaign. Together, we will KEEP AMERICA GREAT! 🇺🇸', url='https://t.co/mZB2hymxC9', entities={'url': {'urls': [{'url': 'https://t.co/mZB2hymxC9', 'expanded_url': 'http://www.DonaldJTrump.com', 'display_url': 'DonaldJTrump.com', 'indices': [0, 23]}]}, 'description': {'urls': []}}, protected=False, followers_count=1182791, friends_count=75, listed_count=3054, created_at=datetime.datetime(2016, 5, 9, 14, 15, 10), favourites_count=2567, utc_offset=None, time_zone=None, geo_enabled=True, verified=True, statuses_count=14572, lang=None, contributors_enabled=False, is_translator=False, is_translation_enabled=False, profile_background_color='000000', profile_background_image_url='http://abs.twimg.com/images/themes/theme1/bg.png', profile_background_image_url_https='https://abs.twimg.com/images/themes/theme1/bg.png', profile_background_tile=False, profile_image_url='http://pbs.twimg.com/profile_images/745768799849308160/KrZhjkpH_normal.jpg', profile_image_url_https='https://pbs.twimg.com/profile_images/745768799849308160/KrZhjkpH_normal.jpg', profile_banner_url='https://pbs.twimg.com/profile_banners/729676086632656900/1564436211', profile_link_color='CB0606', profile_sidebar_border_color='000000', profile_sidebar_fill_color='000000', profile_text_color='000000', profile_use_background_image=False, has_extended_profile=False, default_profile=False, default_profile_image=False, following=False, follow_request_sent=None, notifications=None, translator_type='none'), user=User(_api=<tweepy.api.API object at 0x1a204a1a90>, _json={'id': 729676086632656900, 'id_str': '729676086632656900', 'name': 'Team Trump', 'screen_name': 'TeamTrump', 'location': 'USA', 'description': 'Welcome to Team Trump, the official Twitter for the Trump Campaign. Together, we will KEEP AMERICA GREAT! 🇺🇸', 'url': 'https://t.co/mZB2hymxC9', 'entities': {'url': {'urls': [{'url': 'https://t.co/mZB2hymxC9', 'expanded_url': 'http://www.DonaldJTrump.com', 'display_url': 'DonaldJTrump.com', 'indices': [0, 23]}]}, 'description': {'urls': []}}, 'protected': False, 'followers_count': 1182791, 'friends_count': 75, 'listed_count': 3054, 'created_at': 'Mon May 09 14:15:10 +0000 2016', 'favourites_count': 2567, 'utc_offset': None, 'time_zone': None, 'geo_enabled': True, 'verified': True, 'statuses_count': 14572, 'lang': None, 'contributors_enabled': False, 'is_translator': False, 'is_translation_enabled': False, 'profile_background_color': '000000', 'profile_background_image_url': 'http://abs.twimg.com/images/themes/theme1/bg.png', 'profile_background_image_url_https': 'https://abs.twimg.com/images/themes/theme1/bg.png', 'profile_background_tile': False, 'profile_image_url': 'http://pbs.twimg.com/profile_images/745768799849308160/KrZhjkpH_normal.jpg', 'profile_image_url_https': 'https://pbs.twimg.com/profile_images/745768799849308160/KrZhjkpH_normal.jpg', 'profile_banner_url': 'https://pbs.twimg.com/profile_banners/729676086632656900/1564436211', 'profile_link_color': 'CB0606', 'profile_sidebar_border_color': '000000', 'profile_sidebar_fill_color': '000000', 'profile_text_color': '000000', 'profile_use_background_image': False, 'has_extended_profile': False, 'default_profile': False, 'default_profile_image': False, 'following': None, 'follow_request_sent': None, 'notifications': None, 'translator_type': 'none'}, id=729676086632656900, id_str='729676086632656900', name='Team Trump', screen_name='TeamTrump', location='USA', description='Welcome to Team Trump, the official Twitter for the Trump Campaign. Together, we will KEEP AMERICA GREAT! 🇺🇸', url='https://t.co/mZB2hymxC9', entities={'url': {'urls': [{'url': 'https://t.co/mZB2hymxC9', 'expanded_url': 'http://www.DonaldJTrump.com', 'display_url': 'DonaldJTrump.com', 'indices': [0, 23]}]}, 'description': {'urls': []}}, protected=False, followers_count=1182791, friends_count=75, listed_count=3054, created_at=datetime.datetime(2016, 5, 9, 14, 15, 10), favourites_count=2567, utc_offset=None, time_zone=None, geo_enabled=True, verified=True, statuses_count=14572, lang=None, contributors_enabled=False, is_translator=False, is_translation_enabled=False, profile_background_color='000000', profile_background_image_url='http://abs.twimg.com/images/themes/theme1/bg.png', profile_background_image_url_https='https://abs.twimg.com/images/themes/theme1/bg.png', profile_background_tile=False, profile_image_url='http://pbs.twimg.com/profile_images/745768799849308160/KrZhjkpH_normal.jpg', profile_image_url_https='https://pbs.twimg.com/profile_images/745768799849308160/KrZhjkpH_normal.jpg', profile_banner_url='https://pbs.twimg.com/profile_banners/729676086632656900/1564436211', profile_link_color='CB0606', profile_sidebar_border_color='000000', profile_sidebar_fill_color='000000', profile_text_color='000000', profile_use_background_image=False, has_extended_profile=False, default_profile=False, default_profile_image=False, following=False, follow_request_sent=None, notifications=None, translator_type='none'), geo=None, coordinates=None, place=None, contributors=None, is_quote_status=False, retweet_count=325, favorite_count=991, favorited=False, retweeted=False, possibly_sensitive=False, lang='en'), is_quote_status=False, retweet_count=325, favorite_count=0, favorited=False, retweeted=False, possibly_sensitive=False, lang='en')\n"
     ]
    }
   ],
   "source": [
    "#Variables that contains the user credentials to access Twitter API \n",
    "consumer_key = \"NxJVcfVU5D9EEBSQvLjRdUeWm\" # Replace with your own consumer_key\n",
    "consumer_secret = \"gKaVY667c6nH1uzhNE5WPxJg9QE4h4HrMxvozu94xfd4ncS158\" # Replace with your own consumer_secret\n",
    "\n",
    "# Create authorization for API\n",
    "auth = tweepy.auth.OAuthHandler(consumer_key, consumer_secret)\n",
    "#auth.set_access_token(access_token, access_token_secret)\n",
    "\n",
    "# Initialize API object by passing it your credentials\n",
    "api = tweepy.API(auth)\n",
    "\n",
    "# Use the api to search\n",
    "tweets = api.search(q=\"realDonaldTrump\", count=10, result_type=\"recent\")\n",
    "print(tweets[0])"
   ]
  },
  {
   "cell_type": "code",
   "execution_count": 8,
   "metadata": {},
   "outputs": [
    {
     "data": {
      "text/plain": [
       "\"RT @TeamTrump: VP @mike_pence: Democrats don't have an agenda, that's why they want to impeach @realDonaldTrump https://t.co/El9qOb6bkq\""
      ]
     },
     "execution_count": 8,
     "metadata": {},
     "output_type": "execute_result"
    }
   ],
   "source": [
    "tweets[0].text"
   ]
  },
  {
   "cell_type": "markdown",
   "metadata": {},
   "source": [
    "Some quick vocab:\n",
    "* **corpus** - collection of documents\n",
    "* **corpora** - plural form of corpus\n",
    "\n",
    "Let's build our corpus of tweets."
   ]
  },
  {
   "cell_type": "code",
   "execution_count": 11,
   "metadata": {},
   "outputs": [
    {
     "name": "stdout",
     "output_type": "stream",
     "text": [
      "[b\"Second time in two weeks or so @WashingtonPost cited @1100Penn's reporting on how @realDonaldTrump profits from his https://t.co/2aRl3V5Exy\", b'@SenThomTillis @realDonaldTrump https://t.co/DPMSRayxzX', b'@iikelizardsalot @rww_gop @ChatByCC @realDonaldTrump @All Instead you would rather give your vote and therefore you https://t.co/rwcdDrHBb8', b'RT @RealCandaceO: Lets be real: The Democrats are not calling to impeach @realDonaldTrumpthey are calling to impeach the democratic proce', b'@CKG1959 @realDonaldTrump @POTUS Amen', b'@BillOReilly No, Predator @BillOReilly.\\n\\nThe genesis of it lies with a crooked Un-@realDonaldTrump desperate to rem https://t.co/8NJiOBmJbJ', b'Lincoln, Kennedy, &amp; Reagan are just a few of our Presidents that were fucking shot you dumb twat. https://t.co/gJoQstdjhT', b'@GOPLeader @realDonaldTrump @JudiciaryGOP @HouseGOP Grasp that straw traitor!!!', b'RT @tedlieu: GRAVE facts:\\n\\n-@realDonaldTrump halts military aid to Ukraine.\\n\\n-@POTUS then sets foreign investigation of Biden as preconditi', b'RT @realFFK: Bible says \"surely they shall gather but it shall not be of me:whoever gathers against thee shall be scattered for thy sake!\"']\n"
     ]
    }
   ],
   "source": [
    "tweets_text = []\n",
    "for tweet in tweepy.Cursor(api.search, q='realDonaldTrump', result_type='recent').items(1000):\n",
    "    tweets_text.append(tweet.text.encode('ascii','ignore'))\n",
    "print(tweets_text[0:10])"
   ]
  },
  {
   "cell_type": "markdown",
   "metadata": {},
   "source": [
    "Since I did not provide my credentials above, I saved all of the tweet text to a CSV file.  We can read it back into a list."
   ]
  },
  {
   "cell_type": "code",
   "execution_count": 14,
   "metadata": {},
   "outputs": [],
   "source": [
    "# Running this will overwrite the current data.\n",
    "\n",
    "with open('../data/trump_tweets.csv','w') as f:\n",
    "    for tweet in tweets_text:\n",
    "        f.write('\"%s\"\\n' % tweet)\n"
   ]
  },
  {
   "cell_type": "code",
   "execution_count": 15,
   "metadata": {},
   "outputs": [],
   "source": [
    "with open('../data/trump_tweets.csv','r') as f:\n",
    "    tweets_text = [tweet.replace('\\n','').replace('\"','') for tweet in f.readlines()]"
   ]
  },
  {
   "cell_type": "code",
   "execution_count": 16,
   "metadata": {},
   "outputs": [
    {
     "data": {
      "text/plain": [
       "\"bSecond time in two weeks or so @WashingtonPost cited @1100Penn's reporting on how @realDonaldTrump profits from his https://t.co/2aRl3V5Exy\""
      ]
     },
     "execution_count": 16,
     "metadata": {},
     "output_type": "execute_result"
    }
   ],
   "source": [
    "tweets_text[0]"
   ]
  },
  {
   "cell_type": "markdown",
   "metadata": {},
   "source": [
    "## Tokenization"
   ]
  },
  {
   "cell_type": "markdown",
   "metadata": {},
   "source": [
    "The first thing we need to do with our corpus of text is to break the documents into smaller units.  This is known as **tokenization**.  There are two natural ways to go about this:  breaking the documents apart into sentences or into words.  This gives more structure to the previously unstructured text.  This also allows us to more easily perform other tasks upon our corpus.\n",
    "\n",
    "**Note**:  Breaking documents and paragraphs into sentences and words is easier is some languages than others.  English has obvious (to us) breaks in the text for sentences and words.  However, this might not be the case for other languages.  In addition, there are nuances in the English language with hyphenated words and phrases that are independent clauses but might be part of a larger sentence.\n",
    "\n",
    "First let's try breaking our tweets down into sentences."
   ]
  },
  {
   "cell_type": "code",
   "execution_count": 17,
   "metadata": {},
   "outputs": [
    {
     "data": {
      "text/plain": [
       "[\"bSecond time in two weeks or so @WashingtonPost cited @1100Penn's reporting on how @realDonaldTrump profits from his https://t.co/2aRl3V5Exy\",\n",
       " \"b'@SenThomTillis @realDonaldTrump https://t.co/DPMSRayxzX'\",\n",
       " \"b'@iikelizardsalot @rww_gop @ChatByCC @realDonaldTrump @All Instead you would rather give your vote and therefore you https://t.co/rwcdDrHBb8'\",\n",
       " \"b'RT @RealCandaceO: Lets be real: The Democrats are not calling to impeach @realDonaldTrumpthey are calling to impeach the democratic proce'\",\n",
       " \"b'@CKG1959 @realDonaldTrump @POTUS Amen'\",\n",
       " \"b'@BillOReilly No, Predator @BillOReilly.\\\\n\\\\nThe genesis of it lies with a crooked Un-@realDonaldTrump desperate to rem https://t.co/8NJiOBmJbJ'\",\n",
       " \"b'Lincoln, Kennedy, &amp; Reagan are just a few of our Presidents that were fucking shot you dumb twat.\",\n",
       " \"https://t.co/gJoQstdjhT'\",\n",
       " \"b'@GOPLeader @realDonaldTrump @JudiciaryGOP @HouseGOP Grasp that straw traitor!!!'\",\n",
       " \"b'RT @tedlieu: GRAVE facts:\\\\n\\\\n-@realDonaldTrump halts military aid to Ukraine.\\\\n\\\\n-@POTUS then sets foreign investigation of Biden as preconditi'\"]"
      ]
     },
     "execution_count": 17,
     "metadata": {},
     "output_type": "execute_result"
    }
   ],
   "source": [
    "# Tokenize into sentences\n",
    "sentences = []\n",
    "for tweet in tweets_text:\n",
    "    for sent in nltk.sent_tokenize(tweet):\n",
    "        sentences.append(sent)\n",
    "sentences[:10]"
   ]
  },
  {
   "cell_type": "markdown",
   "metadata": {},
   "source": [
    "Now, let's break our tweets into individual words, referred to as tokens."
   ]
  },
  {
   "cell_type": "code",
   "execution_count": 18,
   "metadata": {},
   "outputs": [
    {
     "data": {
      "text/plain": [
       "['bSecond',\n",
       " 'time',\n",
       " 'in',\n",
       " 'two',\n",
       " 'weeks',\n",
       " 'or',\n",
       " 'so',\n",
       " '@',\n",
       " 'WashingtonPost',\n",
       " 'cited']"
      ]
     },
     "execution_count": 18,
     "metadata": {},
     "output_type": "execute_result"
    }
   ],
   "source": [
    "# Tokenize into words\n",
    "tokens = []\n",
    "for tweet in tweets_text:\n",
    "    for word in nltk.word_tokenize(tweet):\n",
    "        tokens.append(word)\n",
    "tokens[:10]"
   ]
  },
  {
   "cell_type": "markdown",
   "metadata": {},
   "source": [
    "This is really messy though.  Do we care about analyzing punctuation and other non alphanumeric characters?  We will exclude those using regular expressions."
   ]
  },
  {
   "cell_type": "code",
   "execution_count": 19,
   "metadata": {},
   "outputs": [
    {
     "data": {
      "text/plain": [
       "['bSecond',\n",
       " 'time',\n",
       " 'in',\n",
       " 'two',\n",
       " 'weeks',\n",
       " 'or',\n",
       " 'so',\n",
       " 'WashingtonPost',\n",
       " 'cited',\n",
       " 'reporting',\n",
       " 'on',\n",
       " 'how',\n",
       " 'realDonaldTrump',\n",
       " 'profits',\n",
       " 'from',\n",
       " 'his',\n",
       " 'https',\n",
       " 'b',\n",
       " 'SenThomTillis',\n",
       " 'realDonaldTrump']"
      ]
     },
     "execution_count": 19,
     "metadata": {},
     "output_type": "execute_result"
    }
   ],
   "source": [
    "# Only keep tokens that start with a letter (using regular expressions)\n",
    "import re\n",
    "clean_tokens = [token for token in tokens if re.search('^[a-zA-Z]+', token)]\n",
    "clean_tokens[:20]# Tokenize into words"
   ]
  },
  {
   "cell_type": "markdown",
   "metadata": {},
   "source": [
    "We can now perform the \"hello world\" task of text analysis and get a list of the most popular words"
   ]
  },
  {
   "cell_type": "code",
   "execution_count": 20,
   "metadata": {},
   "outputs": [
    {
     "data": {
      "text/plain": [
       "[(\"b'RT\", 627),\n",
       " ('realDonaldTrump', 556),\n",
       " ('the', 492),\n",
       " ('https', 388),\n",
       " ('to', 326),\n",
       " ('b', 292),\n",
       " ('a', 225),\n",
       " ('of', 188),\n",
       " ('in', 158),\n",
       " ('and', 154),\n",
       " ('you', 146),\n",
       " ('is', 141),\n",
       " ('for', 131),\n",
       " ('I', 108),\n",
       " ('are', 100),\n",
       " ('The', 92),\n",
       " ('was', 83),\n",
       " ('President', 82),\n",
       " ('it', 79),\n",
       " ('be', 77),\n",
       " ('on', 73),\n",
       " ('literally', 73),\n",
       " ('got', 73),\n",
       " ('JFK', 69),\n",
       " ('Biden', 68)]"
      ]
     },
     "execution_count": 20,
     "metadata": {},
     "output_type": "execute_result"
    }
   ],
   "source": [
    "# Count the tokens\n",
    "from collections import Counter\n",
    "c = Counter(clean_tokens)\n",
    "c.most_common(25) # Most frequent tokens"
   ]
  },
  {
   "cell_type": "markdown",
   "metadata": {},
   "source": [
    "What do you notice about this list of words?  Are there any duplicated words?  What should we do about that?"
   ]
  },
  {
   "cell_type": "markdown",
   "metadata": {},
   "source": [
    "## Stemming and Lemmatizing (Normalizing)"
   ]
  },
  {
   "cell_type": "markdown",
   "metadata": {},
   "source": [
    "**Stemming** reduces a word to its base (stem) form.  It often makes sense to treat multipe word forms the same way.  \n",
    "\n",
    "Stemming uses a \"simple\" rule-based approach that runs very quickly.  The output isn't always the best for irregular words.  Stemmed words are not usually shown to users but rather used for analysis/indexing."
   ]
  },
  {
   "cell_type": "code",
   "execution_count": 21,
   "metadata": {},
   "outputs": [
    {
     "name": "stdout",
     "output_type": "stream",
     "text": [
      "charge:\n",
      "charging:\n",
      "charged:\n"
     ]
    },
    {
     "data": {
      "text/plain": [
       "(None, 'charg')"
      ]
     },
     "execution_count": 21,
     "metadata": {},
     "output_type": "execute_result"
    }
   ],
   "source": [
    "# Initialize stemmer\n",
    "from nltk.stem.snowball import SnowballStemmer\n",
    "stemmer = SnowballStemmer('english')\n",
    "\n",
    "# Some exmaples\n",
    "print('charge:'), stemmer.stem('charge')\n",
    "print('charging:'), stemmer.stem('charging')\n",
    "print('charged:'), stemmer.stem('charged')"
   ]
  },
  {
   "cell_type": "markdown",
   "metadata": {},
   "source": [
    "Let's stem all of our tokens and recompute the count of most popular tokens."
   ]
  },
  {
   "cell_type": "code",
   "execution_count": 22,
   "metadata": {},
   "outputs": [
    {
     "data": {
      "text/plain": [
       "[(\"b'rt\", 627),\n",
       " ('the', 590),\n",
       " ('realdonaldtrump', 579),\n",
       " ('https', 388),\n",
       " ('to', 332),\n",
       " ('b', 293),\n",
       " ('a', 246),\n",
       " ('you', 207),\n",
       " ('of', 191),\n",
       " ('in', 180),\n",
       " ('and', 166),\n",
       " ('is', 151),\n",
       " ('for', 150),\n",
       " ('presid', 148),\n",
       " ('it', 115),\n",
       " ('i', 113),\n",
       " ('are', 108),\n",
       " ('be', 91),\n",
       " ('we', 90),\n",
       " ('democrat', 85),\n",
       " ('was', 85),\n",
       " ('this', 84),\n",
       " ('biden', 81),\n",
       " ('call', 78),\n",
       " ('that', 78)]"
      ]
     },
     "execution_count": 22,
     "metadata": {},
     "output_type": "execute_result"
    }
   ],
   "source": [
    "# Stem the tokens\n",
    "stemmed_tokens = [stemmer.stem(t) for t in clean_tokens]\n",
    "\n",
    "# Count the stemmed tokens\n",
    "c = Counter(stemmed_tokens)\n",
    "c.most_common(25)       # all lowercase"
   ]
  },
  {
   "cell_type": "markdown",
   "metadata": {},
   "source": [
    "However, some of these are still a bit uninterpretable for humans.  That's where lemmatizing comes in.\n",
    "\n",
    "**Lemmatization**, or normalization, dervies the canonical form (i.e. lemma) of a word.  This can be better than stemming in some cases, because it reduces words to a \"normal\" form.  This often uses a dictionary based approach and can be slower than stemming.  This is the tradeoff for \"better\" results."
   ]
  },
  {
   "cell_type": "code",
   "execution_count": 24,
   "metadata": {},
   "outputs": [
    {
     "name": "stdout",
     "output_type": "stream",
     "text": [
      "dogs - stemmed: dog , lemmatized: dog\n"
     ]
    }
   ],
   "source": [
    "# Initialize lemmatizer\n",
    "lemmatizer = nltk.WordNetLemmatizer()\n",
    "\n",
    "# Compare stemmer to lemmatizer\n",
    "print('dogs - stemmed:', stemmer.stem('dogs'), ', lemmatized:', lemmatizer.lemmatize('dogs'))"
   ]
  },
  {
   "cell_type": "code",
   "execution_count": 25,
   "metadata": {},
   "outputs": [
    {
     "name": "stdout",
     "output_type": "stream",
     "text": [
      "wolves - stemmed: wolv , lemmatized: wolf\n"
     ]
    }
   ],
   "source": [
    "print('wolves - stemmed:', stemmer.stem('wolves'), ', lemmatized:', lemmatizer.lemmatize('wolves'))"
   ]
  },
  {
   "cell_type": "markdown",
   "metadata": {},
   "source": [
    "Let's lemmatize our Twitter dataset."
   ]
  },
  {
   "cell_type": "code",
   "execution_count": 26,
   "metadata": {},
   "outputs": [
    {
     "data": {
      "text/plain": [
       "[(\"b'rt\", 627),\n",
       " ('the', 590),\n",
       " ('realdonaldtrump', 565),\n",
       " ('http', 388),\n",
       " ('to', 332),\n",
       " ('b', 293),\n",
       " ('a', 290),\n",
       " ('you', 207),\n",
       " ('of', 191),\n",
       " ('in', 180),\n",
       " ('and', 166),\n",
       " ('is', 151),\n",
       " ('for', 150),\n",
       " ('president', 130),\n",
       " ('i', 113),\n",
       " ('are', 108),\n",
       " ('it', 104),\n",
       " ('we', 90),\n",
       " ('this', 84),\n",
       " ('wa', 83),\n",
       " ('be', 78),\n",
       " ('not', 77),\n",
       " ('he', 74),\n",
       " ('literally', 74),\n",
       " ('on', 73)]"
      ]
     },
     "execution_count": 26,
     "metadata": {},
     "output_type": "execute_result"
    }
   ],
   "source": [
    "# Lemmatize the tokens\n",
    "lemmatized_tokens = [lemmatizer.lemmatize(t).lower() for t in clean_tokens] # I lowercased things too.\n",
    "\n",
    "# Count the lemmatized tokens\n",
    "c = Counter(lemmatized_tokens)\n",
    "c.most_common(25)       # all lowercase"
   ]
  },
  {
   "cell_type": "markdown",
   "metadata": {},
   "source": [
    "The lemmatizing didn't do much here since msot of the popular words don't have significantly different normal forms."
   ]
  },
  {
   "cell_type": "code",
   "execution_count": 28,
   "metadata": {},
   "outputs": [
    {
     "name": "stdout",
     "output_type": "stream",
     "text": [
      "is - stemmed: is , lemmatized: is\n"
     ]
    }
   ],
   "source": [
    "# One more example\n",
    "print('is - stemmed:', stemmer.stem('is'), ', lemmatized:', lemmatizer.lemmatize('is'))"
   ]
  },
  {
   "cell_type": "markdown",
   "metadata": {},
   "source": [
    "This is not what I learned in grammar school.  Why isn't the result \"be\"? \n",
    "\n",
    "The lemmatizer assumes everything is a noun unless explicitly told otherwise."
   ]
  },
  {
   "cell_type": "code",
   "execution_count": 29,
   "metadata": {},
   "outputs": [
    {
     "data": {
      "text/plain": [
       "'be'"
      ]
     },
     "execution_count": 29,
     "metadata": {},
     "output_type": "execute_result"
    }
   ],
   "source": [
    "lemmatizer.lemmatize('is',pos='v')"
   ]
  },
  {
   "cell_type": "code",
   "execution_count": 30,
   "metadata": {},
   "outputs": [
    {
     "data": {
      "text/plain": [
       "[('Lloyld', 'NNP'), ('loves', 'VBZ'), ('NLP', 'NNP')]"
      ]
     },
     "execution_count": 30,
     "metadata": {},
     "output_type": "execute_result"
    }
   ],
   "source": [
    "nltk.pos_tag(nltk.word_tokenize('Lloyld loves NLP'))"
   ]
  },
  {
   "cell_type": "markdown",
   "metadata": {},
   "source": [
    "## Stopword Removal"
   ]
  },
  {
   "cell_type": "markdown",
   "metadata": {},
   "source": [
    "**Stopwords** are common words that will most likely appear in any text.  They are \"useless\" words that don't contain much information.  For the purpose of word counts and other word frequencies, they are not particularly useful.  \n",
    "\n",
    "Let's remove the stopwords from our tweets and look at the most popular words."
   ]
  },
  {
   "cell_type": "code",
   "execution_count": 32,
   "metadata": {},
   "outputs": [
    {
     "name": "stdout",
     "output_type": "stream",
     "text": [
      "['i', 'me', 'my', 'myself', 'we', 'our', 'ours', 'ourselves', 'you', \"you're\", \"you've\", \"you'll\", \"you'd\", 'your', 'yours', 'yourself', 'yourselves', 'he', 'him', 'his', 'himself', 'she', \"she's\", 'her', 'hers']\n"
     ]
    }
   ],
   "source": [
    "# View the list of stopwords\n",
    "stopwords = nltk.corpus.stopwords.words('english')\n",
    "print(stopwords[0:25])"
   ]
  },
  {
   "cell_type": "markdown",
   "metadata": {},
   "source": [
    "Now that we have a list of stopwords, we can remove them from our token list."
   ]
  },
  {
   "cell_type": "code",
   "execution_count": 34,
   "metadata": {},
   "outputs": [
    {
     "name": "stdout",
     "output_type": "stream",
     "text": [
      "b'rt  627                     b'rt  627\n",
      "realdonaldtrump  579          realdonaldtrump  565\n",
      "https  388                    https  388\n",
      "b  293                        b  293\n",
      "presid  167                   president  119\n",
      "democrat  85                  literally  74\n",
      "biden  81                     got  73\n",
      "call  78                      shot  69\n",
      "liter  74                     biden  69\n",
      "got  73                       jfk  69\n",
      "impeach  71                   trump  67\n",
      "shot  70                      face  65\n",
      "trump  70                     democrats  63\n",
      "jfk  69                       randalovesbacon  62\n",
      "face  65                      joe  47\n",
      "randalovesbacon  62           potus  46\n",
      "joe  47                       amp  45\n",
      "stop  47                      gopleader  45\n",
      "potus  46                     transcript  45\n",
      "ukrain  46                    brt  45\n",
      "amp  45                       know  43\n",
      "goplead  45                   ukraine  40\n",
      "transcript  45                would  37\n",
      "brt  45                       news  37\n",
      "know  44                      said  36\n"
     ]
    }
   ],
   "source": [
    "# Stem the stopwords\n",
    "stemmed_stops = [stemmer.stem(t) for t in stopwords]\n",
    "\n",
    "# Remove stopwords from stemmed tokens\n",
    "stemmed_tokens_no_stop = [stemmer.stem(t) for t in stemmed_tokens if t not in stemmed_stops]\n",
    "c = Counter(stemmed_tokens_no_stop)\n",
    "most_common_stemmed = c.most_common(25)\n",
    "\n",
    "# Remove stopwords from cleaned tokens\n",
    "clean_tokens_no_stop = [t.lower() for t in clean_tokens if t.lower() not in stopwords]\n",
    "c = Counter(clean_tokens_no_stop)\n",
    "most_common_not_stemmed = c.most_common(25)\n",
    "\n",
    "# Compare the most common results for stemmed words and non stemmed words\n",
    "for i in range(25):\n",
    "    text_list = most_common_stemmed[i][0] + '  ' + str(most_common_stemmed[i][1]) + ' '*25\n",
    "    text_list = text_list[0:30]\n",
    "    text_list += most_common_not_stemmed[i][0] + '  ' + str(most_common_not_stemmed[i][1])\n",
    "    print(text_list)"
   ]
  },
  {
   "cell_type": "markdown",
   "metadata": {},
   "source": [
    "These results are a bit more interesting.  You can see the most popular words that occur in the tweets about \"kaggle\".  We could dig further into this and look at the specific tweets for some of the more interesting occurences.  For instance, it seeems that there are more occurences of \"R\" than \"Python\" (which doesn't even show up in our top list).  Does that mean that R is more popular than Python for Kaggle competitions?"
   ]
  },
  {
   "cell_type": "markdown",
   "metadata": {},
   "source": [
    "## Named Entity Recognition"
   ]
  },
  {
   "cell_type": "markdown",
   "metadata": {},
   "source": [
    "**Named Entity Recognition (NER)** is the automatic extraction of names, places, organizations, etc.  This can help you identify \"important\" words.  NER classifiers can work in different ways, but the most interesting and relevant ones use some sort of supervised machine learning technique.  There is some sort of tagged dataset that has a model/algorithm fit to it.  With what we've learned in class so far, you could build your own NER classifier!  However, it's often better to use existing classifiers.  \n",
    "\n",
    "First, let's build a NER extraction function that takes in a sentence."
   ]
  },
  {
   "cell_type": "code",
   "execution_count": 35,
   "metadata": {},
   "outputs": [],
   "source": [
    "def extract_entities(text):\n",
    "    entities = []\n",
    "    # tokenize into sentences\n",
    "    for sentence in nltk.sent_tokenize(text):\n",
    "        # tokenize sentences into words\n",
    "        # add part-of-speech tags\n",
    "        # use NLTK's NER classifier\n",
    "        chunks = nltk.ne_chunk(nltk.pos_tag(nltk.word_tokenize(sentence)))\n",
    "        # parse the results\n",
    "        entities.extend([chunk for chunk in chunks if hasattr(chunk, 'label')])\n",
    "    return entities"
   ]
  },
  {
   "cell_type": "code",
   "execution_count": 37,
   "metadata": {},
   "outputs": [
    {
     "name": "stdout",
     "output_type": "stream",
     "text": [
      "[PERSON] Kevin\n",
      "[PERSON] Brandon\n",
      "[ORGANIZATION] General Assembly\n",
      "[GPE] Washington\n"
     ]
    }
   ],
   "source": [
    "# Let's look at all of the words in this dataset and see which named entities are identified.\n",
    "for entity in extract_entities('Kevin and Brandon are instructors for General Assembly in Washington, D.C.'):\n",
    "    print('[' + entity.label() + '] ' + ' '.join(c[0] for c in entity.leaves()))"
   ]
  },
  {
   "cell_type": "markdown",
   "metadata": {},
   "source": [
    "This seems to work pretty well!  But how resilient is it?"
   ]
  },
  {
   "cell_type": "code",
   "execution_count": 24,
   "metadata": {},
   "outputs": [
    {
     "name": "stdout",
     "output_type": "stream",
     "text": [
      "[ORGANIZATION] BRANDON\n",
      "[ORGANIZATION] DC\n"
     ]
    }
   ],
   "source": [
    "for entity in extract_entities('kevin and BRANDON are instructors for @GA_DC, DC'):\n",
    "    print '[' + entity.label() + '] ' + ' '.join(c[0] for c in entity.leaves())"
   ]
  },
  {
   "cell_type": "markdown",
   "metadata": {},
   "source": [
    "The accuracy decreased dramatically!  There are companies who are working to solve this problem, but as you get into more unstructured, \"wild\" data (like social media), this gets harder to do. \n",
    "\n",
    "We could run this on our entire dataset, but it would take a while, so I'll provide the code, but not actually run it.\n",
    "\n",
    "``` {python}\n",
    "named_entities = []\n",
    "for tweet in tweets_text:\n",
    "    temp_entities = extract_entities(tweet)\n",
    "    for temp_entity in temp_entities:\n",
    "        named_entities.append((temp_entity.label(), temp_entity.leaves()[0][0]))\n",
    "```\n",
    "\n",
    "Let's at least run it on one tweet."
   ]
  },
  {
   "cell_type": "code",
   "execution_count": 25,
   "metadata": {},
   "outputs": [
    {
     "name": "stdout",
     "output_type": "stream",
     "text": [
      "Data Science Challenge: predict Taxi trajectories. @Gabriellilor, @siffolone  are you in? http://t.co/yO9iCOnTlA\n",
      "[PERSON] Data\n",
      "[ORGANIZATION] Science\n",
      "[GPE] Gabriellilor\n"
     ]
    }
   ],
   "source": [
    "print tweets_text[21]\n",
    "for entity in extract_entities(tweets_text[21]):\n",
    "    print '[' + entity.label() + '] ' + ' '.join(c[0] for c in entity.leaves())"
   ]
  },
  {
   "cell_type": "markdown",
   "metadata": {},
   "source": [
    "## Topic Modeling"
   ]
  },
  {
   "cell_type": "markdown",
   "metadata": {},
   "source": [
    "Topic modeling allows us to discover \"topic grougs\" in our dataset.  There are several different versions of this, but we'll talk about one specifically, LDA.\n",
    "\n",
    "**Latent Dirichlet Allocation (LDA)** is a topic modeling method that allows us to discover clusters of words that appear together frequently.  We can use this to look for clusters of words in our Kaggle corpus.\n",
    "\n",
    "While the code below intorduces some new specifics, the overall process is similar to what we've done before."
   ]
  },
  {
   "cell_type": "code",
   "execution_count": 39,
   "metadata": {},
   "outputs": [
    {
     "name": "stdout",
     "output_type": "stream",
     "text": [
      "Collecting lda\n",
      "\u001b[?25l  Downloading https://files.pythonhosted.org/packages/39/b4/1bc2ebf693587013e26f106d91f9d6d5d0fd7eca2ff97453e13e4eb8c121/lda-1.1.0-cp37-cp37m-macosx_10_6_intel.macosx_10_9_intel.macosx_10_9_x86_64.macosx_10_10_intel.macosx_10_10_x86_64.whl (413kB)\n",
      "\u001b[K    100% |████████████████████████████████| 419kB 2.9MB/s ta 0:00:01\n",
      "\u001b[?25hRequirement already satisfied: numpy<2.0,>=1.13.0 in /Users/nicholasbeaudoin/anaconda3/lib/python3.7/site-packages (from lda) (1.16.2)\n",
      "Collecting pbr<4,>=0.6 (from lda)\n",
      "\u001b[?25l  Downloading https://files.pythonhosted.org/packages/0c/5d/b077dbf309993d52c1d71e6bf6fe443a8029ea215135ebbe0b1b10e7aefc/pbr-3.1.1-py2.py3-none-any.whl (99kB)\n",
      "\u001b[K    100% |████████████████████████████████| 102kB 2.9MB/s a 0:00:011\n",
      "\u001b[?25hInstalling collected packages: pbr, lda\n",
      "Successfully installed lda-1.1.0 pbr-3.1.1\n"
     ]
    }
   ],
   "source": [
    "!pip install lda"
   ]
  },
  {
   "cell_type": "code",
   "execution_count": 40,
   "metadata": {},
   "outputs": [
    {
     "name": "stderr",
     "output_type": "stream",
     "text": [
      "INFO:lda:n_documents: 1000\n",
      "INFO:lda:vocab_size: 13078\n",
      "INFO:lda:n_words: 27812\n",
      "INFO:lda:n_topics: 10\n",
      "INFO:lda:n_iter: 500\n",
      "/Users/nicholasbeaudoin/anaconda3/lib/python3.7/site-packages/lda/utils.py:55: FutureWarning: Conversion of the second argument of issubdtype from `int` to `np.signedinteger` is deprecated. In future, it will be treated as `np.int64 == np.dtype(int).type`.\n",
      "  if sparse and not np.issubdtype(doc_word.dtype, int):\n",
      "INFO:lda:<0> log likelihood: -367515\n",
      "INFO:lda:<10> log likelihood: -277108\n",
      "INFO:lda:<20> log likelihood: -269464\n",
      "INFO:lda:<30> log likelihood: -265685\n",
      "INFO:lda:<40> log likelihood: -262834\n",
      "INFO:lda:<50> log likelihood: -261010\n",
      "INFO:lda:<60> log likelihood: -259808\n",
      "INFO:lda:<70> log likelihood: -259193\n",
      "INFO:lda:<80> log likelihood: -258720\n",
      "INFO:lda:<90> log likelihood: -258384\n",
      "INFO:lda:<100> log likelihood: -258080\n",
      "INFO:lda:<110> log likelihood: -257971\n",
      "INFO:lda:<120> log likelihood: -257972\n",
      "INFO:lda:<130> log likelihood: -257366\n",
      "INFO:lda:<140> log likelihood: -258025\n",
      "INFO:lda:<150> log likelihood: -257607\n",
      "INFO:lda:<160> log likelihood: -257662\n",
      "INFO:lda:<170> log likelihood: -257328\n",
      "INFO:lda:<180> log likelihood: -257465\n",
      "INFO:lda:<190> log likelihood: -257424\n",
      "INFO:lda:<200> log likelihood: -257382\n",
      "INFO:lda:<210> log likelihood: -257251\n",
      "INFO:lda:<220> log likelihood: -257401\n",
      "INFO:lda:<230> log likelihood: -257312\n",
      "INFO:lda:<240> log likelihood: -256831\n",
      "INFO:lda:<250> log likelihood: -257209\n",
      "INFO:lda:<260> log likelihood: -256909\n",
      "INFO:lda:<270> log likelihood: -257222\n",
      "INFO:lda:<280> log likelihood: -256829\n",
      "INFO:lda:<290> log likelihood: -257342\n",
      "INFO:lda:<300> log likelihood: -257155\n",
      "INFO:lda:<310> log likelihood: -257098\n",
      "INFO:lda:<320> log likelihood: -257198\n",
      "INFO:lda:<330> log likelihood: -256865\n",
      "INFO:lda:<340> log likelihood: -257367\n",
      "INFO:lda:<350> log likelihood: -257079\n",
      "INFO:lda:<360> log likelihood: -256829\n",
      "INFO:lda:<370> log likelihood: -256847\n",
      "INFO:lda:<380> log likelihood: -257248\n",
      "INFO:lda:<390> log likelihood: -256899\n",
      "INFO:lda:<400> log likelihood: -257309\n",
      "INFO:lda:<410> log likelihood: -257403\n",
      "INFO:lda:<420> log likelihood: -256937\n",
      "INFO:lda:<430> log likelihood: -257161\n",
      "INFO:lda:<440> log likelihood: -256852\n",
      "INFO:lda:<450> log likelihood: -257101\n",
      "INFO:lda:<460> log likelihood: -256949\n",
      "INFO:lda:<470> log likelihood: -257068\n",
      "INFO:lda:<480> log likelihood: -257329\n",
      "INFO:lda:<490> log likelihood: -256951\n",
      "INFO:lda:<499> log likelihood: -257222\n"
     ]
    },
    {
     "name": "stdout",
     "output_type": "stream",
     "text": [
      "Topic 1: realdonaldtrump, rt, president, amp, democrats, realdonaldtrump freebeacon, freebeacon, https, pelosi\n",
      "Topic 2: realdonaldtrump, https, rt, trump, know, biden, man, american, nhttps\n",
      "Topic 3: realdonaldtrump, https, rt, realdonaldtrump gopleader, gopleader, trump, years, bitch, like\n",
      "Topic 4: rt, realdonaldtrump, read, brt, ukraine, bad, transcript, president, japan\n",
      "Topic 5: realdonaldtrump, rt, https, lindseygrahamsc, realdonaldtrump https, quid pro, pro, quid, pro quo\n",
      "Topic 6: rt, https, realdonaldtrump, girl, e_hazey, e_hazey girl, e_hazey girl bout, https gfqntrw7ek, rt e_hazey\n",
      "Topic 7: rt, realdonaldtrump, impeach, calling, calling impeach, democrats, realcandaceo, real, president\n",
      "Topic 8: https, realdonaldtrump, rt, country, stop, dont, dineshdsouza, did, left\n",
      "Topic 9: rt, https, got, jfk, shot, literally, face, got shot, face https\n",
      "Topic 10: rt, realdonaldtrump, que, el, la, world, presidente, breaking, know\n"
     ]
    }
   ],
   "source": [
    "import lda # Latent Dirichlet Allocation\n",
    "import numpy as np\n",
    "from sklearn.feature_extraction.text import CountVectorizer\n",
    "\n",
    "# Instantiate a count vectorizer with two additional parameters\n",
    "vect = CountVectorizer(stop_words='english', ngram_range=[1,3]) \n",
    "sentences_train = vect.fit_transform(np.array(tweets_text))\n",
    "\n",
    "# Instantiate an LDA model\n",
    "model = lda.LDA(n_topics=10, n_iter=500)\n",
    "model.fit(sentences_train) # Fit the model \n",
    "n_top_words = 10\n",
    "topic_word = model.topic_word_\n",
    "for i, topic_dist in enumerate(topic_word):\n",
    "    topic_words = np.array(vect.get_feature_names())[np.argsort(topic_dist)][:-n_top_words:-1]\n",
    "    print('Topic {}: {}'.format(i+1, ', '.join(topic_words)))"
   ]
  },
  {
   "cell_type": "markdown",
   "metadata": {},
   "source": [
    "These results could be interesting.  There are vague clusters about machinelearning/scikit learn, methods of classification, and others.  These are not hard and fast clusters or groups, but they are something to investigate.\n",
    "\n",
    "Let's try this again on a different corpus."
   ]
  },
  {
   "cell_type": "code",
   "execution_count": 41,
   "metadata": {},
   "outputs": [
    {
     "data": {
      "text/plain": [
       "'\\n Data science is a multi-disciplinary field that uses scientific methods, processes, algorithms and systems to extract knowledge and insights from structured and unstructured data.[1][2] Data science is the same concept as data mining and big data: \"use the most powerful hardware, the most powerful programming systems, and the most efficient algorithms to solve problems\".[3]\\n Data science is a \"concept to unify statistics, data analysis, machine learning and their related methods\" in order to \"'"
      ]
     },
     "execution_count": 41,
     "metadata": {},
     "output_type": "execute_result"
    }
   ],
   "source": [
    "# Imports\n",
    "import requests\n",
    "from bs4 import BeautifulSoup\n",
    "\n",
    "# Get Data Science Wiki page\n",
    "r = requests.get(\"http://en.wikipedia.org/wiki/Data_science\")\n",
    "b = BeautifulSoup(r.text)\n",
    "paragraphs = b.find(\"body\").findAll(\"p\")\n",
    "paragraphs_text = [p.text for p in paragraphs]\n",
    "text = \"\"\n",
    "for paragraph in paragraphs:\n",
    "    text += paragraph.text + \" \"\n",
    "\n",
    "# Data Science corpus\n",
    "text[:500]"
   ]
  },
  {
   "cell_type": "code",
   "execution_count": 42,
   "metadata": {},
   "outputs": [
    {
     "data": {
      "text/plain": [
       "'\\n Data science is a multi-disciplinary field that uses scientific methods, processes, algorithms and systems to extract knowledge and insights from structured and unstructured data.'"
      ]
     },
     "execution_count": 42,
     "metadata": {},
     "output_type": "execute_result"
    }
   ],
   "source": [
    "# tokenize into sentences\n",
    "sentences = [sent for sent in nltk.sent_tokenize(text)]\n",
    "sentences[0]"
   ]
  },
  {
   "cell_type": "markdown",
   "metadata": {},
   "source": [
    "We can try running LDA using the paragraphs as documents."
   ]
  },
  {
   "cell_type": "code",
   "execution_count": 43,
   "metadata": {},
   "outputs": [
    {
     "name": "stderr",
     "output_type": "stream",
     "text": [
      "INFO:lda:n_documents: 17\n",
      "INFO:lda:vocab_size: 2706\n",
      "INFO:lda:n_words: 3420\n",
      "INFO:lda:n_topics: 10\n",
      "INFO:lda:n_iter: 500\n",
      "WARNING:lda:all zero row in document-term matrix found\n",
      "INFO:lda:<0> log likelihood: -39928\n",
      "INFO:lda:<10> log likelihood: -36484\n",
      "INFO:lda:<20> log likelihood: -35751\n",
      "INFO:lda:<30> log likelihood: -35176\n",
      "INFO:lda:<40> log likelihood: -34837\n",
      "INFO:lda:<50> log likelihood: -34742\n",
      "INFO:lda:<60> log likelihood: -34663\n",
      "INFO:lda:<70> log likelihood: -34612\n",
      "INFO:lda:<80> log likelihood: -34545\n",
      "INFO:lda:<90> log likelihood: -34423\n",
      "INFO:lda:<100> log likelihood: -34185\n",
      "INFO:lda:<110> log likelihood: -34114\n",
      "INFO:lda:<120> log likelihood: -34143\n",
      "INFO:lda:<130> log likelihood: -34151\n",
      "INFO:lda:<140> log likelihood: -34140\n",
      "INFO:lda:<150> log likelihood: -34109\n",
      "INFO:lda:<160> log likelihood: -34320\n",
      "INFO:lda:<170> log likelihood: -34046\n",
      "INFO:lda:<180> log likelihood: -33973\n",
      "INFO:lda:<190> log likelihood: -34100\n",
      "INFO:lda:<200> log likelihood: -33912\n",
      "INFO:lda:<210> log likelihood: -33960\n",
      "INFO:lda:<220> log likelihood: -34013\n",
      "INFO:lda:<230> log likelihood: -33997\n",
      "INFO:lda:<240> log likelihood: -34055\n",
      "INFO:lda:<250> log likelihood: -33855\n",
      "INFO:lda:<260> log likelihood: -34174\n",
      "INFO:lda:<270> log likelihood: -33900\n",
      "INFO:lda:<280> log likelihood: -33965\n",
      "INFO:lda:<290> log likelihood: -33919\n",
      "INFO:lda:<300> log likelihood: -33953\n",
      "INFO:lda:<310> log likelihood: -34090\n",
      "INFO:lda:<320> log likelihood: -33880\n",
      "INFO:lda:<330> log likelihood: -34104\n",
      "INFO:lda:<340> log likelihood: -34162\n",
      "INFO:lda:<350> log likelihood: -34170\n",
      "INFO:lda:<360> log likelihood: -34024\n",
      "INFO:lda:<370> log likelihood: -33900\n",
      "INFO:lda:<380> log likelihood: -34012\n",
      "INFO:lda:<390> log likelihood: -33947\n",
      "INFO:lda:<400> log likelihood: -34026\n",
      "INFO:lda:<410> log likelihood: -33789\n",
      "INFO:lda:<420> log likelihood: -34143\n",
      "INFO:lda:<430> log likelihood: -34215\n",
      "INFO:lda:<440> log likelihood: -34155\n",
      "INFO:lda:<450> log likelihood: -34056\n",
      "INFO:lda:<460> log likelihood: -33964\n",
      "INFO:lda:<470> log likelihood: -33897\n",
      "INFO:lda:<480> log likelihood: -33960\n",
      "INFO:lda:<490> log likelihood: -33989\n",
      "INFO:lda:<499> log likelihood: -33763\n"
     ]
    },
    {
     "name": "stdout",
     "output_type": "stream",
     "text": [
      "Topic 1: data, science, data science, statistical, analysis, computer, methods, international, computer science\n",
      "Topic 2: data, field, 39, donoho, academic, statisticians, cleveland, theories, computing\n",
      "Topic 3: systems, information, uses, concept, powerful, primary, turing award, database, machine learning\n",
      "Topic 4: science, data science, like, applied, predictive, disciplines, data sets, sets, criticisms\n",
      "Topic 5: analytics, statistics, conference, learning, launched, 2014, 2015, programs, statistical association\n",
      "Topic 6: statistics, discipline, statistics data, definition, article, lecture, new, indian, entitled\n",
      "Topic 7: term, term data, term data science, statistics, used, naur, usage, science buzzword, established\n",
      "Topic 8: data, scientists, business, data scientists, scientist, data scientist, 21st, century, sexiest\n",
      "Topic 9: big, big data, statistician, data mining, mining big data, buzzword, way, graduate, projects\n",
      "Topic 10: journal, published, technical, digital data, issues, areas, april, applications, digital\n"
     ]
    }
   ],
   "source": [
    "# Instantiate a count vectorizer with two additional parameters\n",
    "vect = CountVectorizer(stop_words='english', ngram_range=[1,3]) \n",
    "sentences_train = vect.fit_transform(paragraphs_text)\n",
    "\n",
    "# Instantiate an LDA model\n",
    "model = lda.LDA(n_topics=10, n_iter=500)\n",
    "model.fit(sentences_train) # Fit the model \n",
    "n_top_words = 10\n",
    "topic_word = model.topic_word_\n",
    "for i, topic_dist in enumerate(topic_word):\n",
    "    topic_words = np.array(vect.get_feature_names())[np.argsort(topic_dist)][:-n_top_words:-1]\n",
    "    print('Topic {}: {}'.format(i+1, ', '.join(topic_words)))"
   ]
  },
  {
   "cell_type": "markdown",
   "metadata": {},
   "source": [
    "We can also use the sentences as documents.  While topic modeling usually does better with longer documents (emails vs. tweets), LDA has been shown to do well even with short documents (specifically tweets)."
   ]
  },
  {
   "cell_type": "code",
   "execution_count": 44,
   "metadata": {},
   "outputs": [
    {
     "name": "stderr",
     "output_type": "stream",
     "text": [
      "INFO:lda:n_documents: 17\n",
      "INFO:lda:vocab_size: 2706\n",
      "INFO:lda:n_words: 3420\n",
      "INFO:lda:n_topics: 10\n",
      "INFO:lda:n_iter: 500\n",
      "WARNING:lda:all zero row in document-term matrix found\n",
      "INFO:lda:<0> log likelihood: -39928\n",
      "INFO:lda:<10> log likelihood: -36240\n",
      "INFO:lda:<20> log likelihood: -35781\n",
      "INFO:lda:<30> log likelihood: -35354\n",
      "INFO:lda:<40> log likelihood: -35201\n",
      "INFO:lda:<50> log likelihood: -34763\n",
      "INFO:lda:<60> log likelihood: -34536\n",
      "INFO:lda:<70> log likelihood: -34211\n",
      "INFO:lda:<80> log likelihood: -34244\n",
      "INFO:lda:<90> log likelihood: -34097\n",
      "INFO:lda:<100> log likelihood: -34122\n",
      "INFO:lda:<110> log likelihood: -34161\n",
      "INFO:lda:<120> log likelihood: -34109\n",
      "INFO:lda:<130> log likelihood: -34128\n",
      "INFO:lda:<140> log likelihood: -34345\n",
      "INFO:lda:<150> log likelihood: -34293\n",
      "INFO:lda:<160> log likelihood: -34183\n",
      "INFO:lda:<170> log likelihood: -34048\n",
      "INFO:lda:<180> log likelihood: -34077\n",
      "INFO:lda:<190> log likelihood: -34111\n",
      "INFO:lda:<200> log likelihood: -34114\n",
      "INFO:lda:<210> log likelihood: -34086\n",
      "INFO:lda:<220> log likelihood: -34142\n",
      "INFO:lda:<230> log likelihood: -34072\n",
      "INFO:lda:<240> log likelihood: -34076\n",
      "INFO:lda:<250> log likelihood: -34058\n",
      "INFO:lda:<260> log likelihood: -33902\n",
      "INFO:lda:<270> log likelihood: -34060\n",
      "INFO:lda:<280> log likelihood: -34135\n",
      "INFO:lda:<290> log likelihood: -34131\n",
      "INFO:lda:<300> log likelihood: -34036\n",
      "INFO:lda:<310> log likelihood: -34059\n",
      "INFO:lda:<320> log likelihood: -34103\n",
      "INFO:lda:<330> log likelihood: -34038\n",
      "INFO:lda:<340> log likelihood: -34152\n",
      "INFO:lda:<350> log likelihood: -34098\n",
      "INFO:lda:<360> log likelihood: -33967\n",
      "INFO:lda:<370> log likelihood: -33868\n",
      "INFO:lda:<380> log likelihood: -34198\n",
      "INFO:lda:<390> log likelihood: -34226\n",
      "INFO:lda:<400> log likelihood: -34119\n",
      "INFO:lda:<410> log likelihood: -34168\n",
      "INFO:lda:<420> log likelihood: -34299\n",
      "INFO:lda:<430> log likelihood: -34095\n",
      "INFO:lda:<440> log likelihood: -34280\n",
      "INFO:lda:<450> log likelihood: -34133\n",
      "INFO:lda:<460> log likelihood: -34264\n",
      "INFO:lda:<470> log likelihood: -34240\n",
      "INFO:lda:<480> log likelihood: -34117\n",
      "INFO:lda:<490> log likelihood: -34034\n",
      "INFO:lda:<499> log likelihood: -34137\n"
     ]
    },
    {
     "name": "stdout",
     "output_type": "stream",
     "text": [
      "Topic 1: data, business, term, data scientists, scientist, statistician, data scientist, job, simply\n",
      "Topic 2: data, science, statistical, computer, analysis, methods, journal, computer science, data analysis\n",
      "Topic 3: data science, 39, like, donoho, applied, academic, programs, predictive, theories\n",
      "Topic 4: statistics, big, big data, scientists, association, mining, data mining, concept, statisticians\n",
      "Topic 5: 21st century, 21st, review, scientists, sexiest, management, digital data, earlier, issues\n",
      "Topic 6: systems, powerful, machine learning, jim gray, information, uses, fourth paradigm, award winner jim, award winner\n",
      "Topic 7: data science, analytics, conference, learning, launched, 2014, 2015, american statistical, american statistical association\n",
      "Topic 8: data science, international, university, research, published, data science journal, data collection, renamed, collection\n",
      "Topic 9: term, term data, term data science, statistics data, used, lecture, definition, naur, entitled statistics\n",
      "Topic 10: field, discipline, new, article, cleveland, computing, disciplines, models, technical areas\n"
     ]
    }
   ],
   "source": [
    "# Instantiate a count vectorizer with two additional parameters\n",
    "vect = CountVectorizer(stop_words='english', ngram_range=[1,3]) \n",
    "sentences_train = vect.fit_transform(paragraphs_text)\n",
    "\n",
    "# Instantiate an LDA model\n",
    "model = lda.LDA(n_topics=10, n_iter=500)\n",
    "model.fit(sentences_train) # Fit the model \n",
    "n_top_words = 10\n",
    "topic_word = model.topic_word_\n",
    "for i, topic_dist in enumerate(topic_word):\n",
    "    topic_words = np.array(vect.get_feature_names())[np.argsort(topic_dist)][:-n_top_words:-1]\n",
    "    print('Topic {}: {}'.format(i+1, ', '.join(topic_words)))"
   ]
  },
  {
   "cell_type": "markdown",
   "metadata": {},
   "source": [
    "Since topic modeling is more of a clustering technique, it can be difficult to determine which one is \"better\"."
   ]
  },
  {
   "cell_type": "markdown",
   "metadata": {},
   "source": [
    "## Textblob"
   ]
  },
  {
   "cell_type": "markdown",
   "metadata": {},
   "source": [
    "Let's talk about a new NLP package, Textblob.  Textblob's tagline is \"Simplified Text Processing\".  You can do many of the same things in Textblob that you can do in NLTK, but it is \"simpler\" to use.  That's obviously a subjective thing, but it's good to be aware of both packages."
   ]
  },
  {
   "cell_type": "code",
   "execution_count": 48,
   "metadata": {},
   "outputs": [
    {
     "name": "stdout",
     "output_type": "stream",
     "text": [
      "Sentences: [Sentence(\"Kevin and Brandon are instructors for General Assembly in Washington, D.C.\"), Sentence(\"They both love Data Science.\")]\n",
      "Words: ['Kevin', 'and', 'Brandon', 'are', 'instructors', 'for', 'General', 'Assembly', 'in', 'Washington', 'D.C', 'They', 'both', 'love', 'Data', 'Science']\n",
      "Noun Phrases: ['kevin', 'brandon', 'general assembly', 'washington', 'd.c', 'data']\n"
     ]
    }
   ],
   "source": [
    "from textblob import TextBlob, Word\n",
    "\n",
    "# Textblob has a different syntax, but it generally performs the same functions as NLTK.\n",
    "blob = TextBlob('Kevin and Brandon are instructors for General Assembly in Washington, D.C.  They both love Data Science.')\n",
    "print('Sentences:', blob.sentences)\n",
    "print('Words:', blob.words)\n",
    "print('Noun Phrases:', blob.noun_phrases)"
   ]
  },
  {
   "cell_type": "markdown",
   "metadata": {},
   "source": [
    "Textblob has many useful functionalities:  \n",
    "* Singularizing and pluralizing words\n",
    "* Spell check\n",
    "* Word defintions\n",
    "* Translation"
   ]
  },
  {
   "cell_type": "code",
   "execution_count": 50,
   "metadata": {},
   "outputs": [
    {
     "name": "stdout",
     "output_type": "stream",
     "text": [
      "['Put', 'away', 'the', 'dish']\n",
      "['Puts', 'aways', 'thes', 'dishess']\n"
     ]
    }
   ],
   "source": [
    "# Singularize and pluralize\n",
    "blob = TextBlob('Put away the dishes.')\n",
    "print([word.singularize() for word in blob.words])\n",
    "print([word.pluralize() for word in blob.words])"
   ]
  },
  {
   "cell_type": "code",
   "execution_count": 32,
   "metadata": {},
   "outputs": [
    {
     "name": "stdout",
     "output_type": "stream",
     "text": [
      "Original: 15 minuets late    Corrected: 15 minutes late\n",
      "Original: parot    Corrected: [('part', 0.9929478138222849), (u'parrot', 0.007052186177715092)]\n"
     ]
    }
   ],
   "source": [
    "# Spelling correction\n",
    "blob = TextBlob('15 minuets late')\n",
    "print 'Original: 15 minuets late    Corrected:', blob.correct()\n",
    "\n",
    "# Spellcheck\n",
    "print 'Original: parot    Corrected:', Word('parot').spellcheck()"
   ]
  },
  {
   "cell_type": "code",
   "execution_count": null,
   "metadata": {},
   "outputs": [],
   "source": [
    "# Definitions\n",
    "print Word('bank').define()\n",
    "print ' '\n",
    "print Word('bank').define('v')"
   ]
  },
  {
   "cell_type": "code",
   "execution_count": 33,
   "metadata": {},
   "outputs": [
    {
     "name": "stdout",
     "output_type": "stream",
     "text": [
      "English: \"Welcome to the classroom.\"    Spanish: Bienvenido a la sala de clase .\n",
      "\n",
      "\"Hola amigos\" is the language es\n"
     ]
    }
   ],
   "source": [
    "# translation and language identification\n",
    "blob = TextBlob('Welcome to the classroom.')\n",
    "print 'English: \"Welcome to the classroom.\"    Spanish:', blob.translate(to='es')\n",
    "print ''\n",
    "blob = TextBlob('Hola amigos')\n",
    "print '\"Hola amigos\" is the language', blob.detect_language()"
   ]
  },
  {
   "cell_type": "markdown",
   "metadata": {},
   "source": [
    "## Sentiment"
   ]
  },
  {
   "cell_type": "markdown",
   "metadata": {},
   "source": [
    "Sentiment allows us to convert a limited range of emotion into a number.  It gives us an idea of how \"positive\", \"negative\", or \"neutral\" a piece of text is.  We built a sentiment API function in our API's class, so we could use that.  But for the sake of variety, let's use the built in functionality of Textblob.\n",
    "\n",
    "Textblob has two different \"types\" of sentiment, a polarity sentiment (positive/negative) and a subjectivity sentiment."
   ]
  },
  {
   "cell_type": "code",
   "execution_count": 34,
   "metadata": {},
   "outputs": [
    {
     "name": "stdout",
     "output_type": "stream",
     "text": [
      "I love pizza    Sentiment = 0.5\n",
      "I hatee pizza    Sentiment = -0.8\n",
      "I feel nothing about pizza    Sentiment = 0.0\n"
     ]
    }
   ],
   "source": [
    "# The sentiment polarity score is a float within the range [-1.0, 1.0].\n",
    "print 'I love pizza    Sentiment =', TextBlob('I love pizza').sentiment.polarity\n",
    "print 'I hatee pizza    Sentiment =', TextBlob('I hate pizza').sentiment.polarity\n",
    "print 'I feel nothing about pizza    Sentiment =', TextBlob('I feel nothing about pizza').sentiment.polarity"
   ]
  },
  {
   "cell_type": "code",
   "execution_count": 35,
   "metadata": {},
   "outputs": [
    {
     "name": "stdout",
     "output_type": "stream",
     "text": [
      "I am a cool person    Subjectivity = 0.65\n",
      "I am a person    Subjectivity = 0.0\n"
     ]
    }
   ],
   "source": [
    "# The subjectivity is a float within the range [0.0, 1.0] where 0.0 is very objective and 1.0 is very subjective.\n",
    "print 'I am a cool person    Subjectivity =', TextBlob(\"I am a cool person\").sentiment.subjectivity # Pretty subjective\n",
    "print 'I am a person    Subjectivity =', TextBlob(\"I am a person\").sentiment.subjectivity # Pretty objective"
   ]
  },
  {
   "cell_type": "markdown",
   "metadata": {},
   "source": [
    "But once again, it's not perfect."
   ]
  },
  {
   "cell_type": "code",
   "execution_count": 36,
   "metadata": {},
   "outputs": [
    {
     "name": "stdout",
     "output_type": "stream",
     "text": [
      "0.5\n",
      "0.0\n"
     ]
    }
   ],
   "source": [
    "# different scores for essentially the same sentence\n",
    "print TextBlob('Kevin and Brandon are instructors for General Assembly in Washington, D.C.').sentiment.subjectivity\n",
    "print TextBlob('Kevin and Brandon are instructors in Washington, D.C.').sentiment.subjectivity"
   ]
  },
  {
   "cell_type": "markdown",
   "metadata": {},
   "source": [
    "With this idea of sentiment in mind, let's see how positive, negative, and neutral people are about our Kaggle tweets."
   ]
  },
  {
   "cell_type": "code",
   "execution_count": 53,
   "metadata": {},
   "outputs": [
    {
     "name": "stdout",
     "output_type": "stream",
     "text": [
      "bSecond time in two weeks or so @WashingtonPost cited @1100Penn's reporting on how @realDonaldTrump profits from his https://t.co/2aRl3V5Exy 0.0\n"
     ]
    }
   ],
   "source": [
    "# Let's loop through our tweets and calculate sentiment\n",
    "sentiments = [TextBlob(tweet).sentiment.polarity for tweet in tweets_text]\n",
    "print(tweets_text[0], sentiments[0])"
   ]
  },
  {
   "cell_type": "code",
   "execution_count": 55,
   "metadata": {},
   "outputs": [
    {
     "name": "stdout",
     "output_type": "stream",
     "text": [
      "0.021292711687184343\n"
     ]
    }
   ],
   "source": [
    "# Average sentiment\n",
    "avg_sentiment = np.sum(sentiments)/len(sentiments)\n",
    "print(avg_sentiment)"
   ]
  },
  {
   "cell_type": "markdown",
   "metadata": {},
   "source": [
    "This average sentiment is pretty neutral.  In my experience, this is usually the case; people don't express as much sentiment as you think and the positives and negatives often cancel each other out.\n",
    "\n",
    "Let's look at the distribution of the sentiment to get a better idea."
   ]
  },
  {
   "cell_type": "code",
   "execution_count": 56,
   "metadata": {},
   "outputs": [
    {
     "data": {
      "text/plain": [
       "Text(0, 0.5, 'Frequency')"
      ]
     },
     "execution_count": 56,
     "metadata": {},
     "output_type": "execute_result"
    },
    {
     "data": {
      "image/png": "[encoded data removed]",
      "text/plain": [
       "<Figure size 432x288 with 1 Axes>"
      ]
     },
     "metadata": {
      "needs_background": "light"
     },
     "output_type": "display_data"
    }
   ],
   "source": [
    "%matplotlib inline\n",
    "import seaborn as sns\n",
    "import matplotlib.pyplot as plt\n",
    "sns.distplot(sentiments)\n",
    "plt.title('Distribution of Sentiment')\n",
    "plt.xlabel('Sentiment (-1 to 1)')\n",
    "plt.ylabel('Frequency')"
   ]
  },
  {
   "cell_type": "markdown",
   "metadata": {},
   "source": [
    "It looks like people tend to be more positive about Kaggle than negative.\n",
    "\n",
    "Let's look at the really negative tweets!  We'll define negative as less than or equal to -0.25.  We'll exclude all the tweets with links in them."
   ]
  },
  {
   "cell_type": "code",
   "execution_count": 58,
   "metadata": {},
   "outputs": [
    {
     "name": "stdout",
     "output_type": "stream",
     "text": [
      "b'@realDonaldTrump One day I will smile when you retweet something from Pornhub because youre too lazy and stupid to realize it.' -0.25\n",
      "b'RT @LouDobbs: President @realDonaldTrump shows his strength while the Party of Hate continues their harassment. Joe diGenova &amp; @VicToensing' -0.8\n",
      "b'@SpeakerPelosi @realDonaldTrump WRONG!!!' -0.9765625\n",
      "b'RT @CheriJacobus: @realDonaldTrump Every GOP Senator just voted for a resolution saying the whistleblower complaint has to be given to Cong' -0.3\n",
      "b'RT @LouDobbs: President @realDonaldTrump shows his strength while the Party of Hate continues their harassment. Joe diGenova &amp; @VicToensing' -0.8\n",
      "b'@realDonaldTrump our President is being treated bad because he is bad. He is a bad human being.  He cares about nothing but lieing.' -0.5249999999999999\n",
      "b'@realDonaldTrump People worldwide are holding corrupt people accountable. \\n\\nYOU will be fired by US Republicans ' -0.5\n",
      "b'RT @SenThomTillis: Nancy Pelosi should be embarrassed. The transcript debunks the Democrats false claims against President @realDonaldTrum' -0.4000000000000001\n",
      "b@DrMartyFox @realDonaldTrump That's why it is FAKE NEWS!! THEY LIE!! -1.0\n",
      "b'@morten @realDonaldTrump Guilty!' -0.625\n",
      "b@NapoleanDwarf @HokieTed @parscale @JessieJaneDuff @realDonaldTrump @GOP It's a poor mechanic that blames his tools. -0.4\n",
      "b'RT @DrDenaGrayson: BREAKING: The #whistleblowerwho filed a complaint about @realDonaldTrumps extortion of #Ukraines president along wit' -0.3\n",
      "b'@realDonaldTrump @FreeBeacon Seriously, thats what you got? You donated to Bill and Hillary- whats your point?' -0.3333333333333333\n",
      "b'@GOPLeader @realDonaldTrump @JudiciaryGOP @HouseGOP How useless' -0.5\n",
      "b'RT @GovMikeHuckabee: Just read Ukraine transcript.  Its bad! Very very bad! For Joe Biden.  But @realDonaldTrump didnt once offer aid for' -0.9374999999999999\n",
      "b'RT @GovMikeHuckabee: Just read Ukraine transcript.  Its bad! Very very bad! For Joe Biden.  But @realDonaldTrump didnt once offer aid for' -0.9374999999999999\n",
      "b'RT @BrandonStraka: Please retweet...\\nTomi Lahren &amp; I share a common background. We both come from midwestern cattle ranching families. @rea' -0.3\n",
      "b'@RepSwalwell @WhiteHouse @realDonaldTrump Swalwell, my god your pollng in the negative numbers now.' -0.3\n",
      "b'@real_defender @realDonaldTrump @GOPLeader Democrats are the dirty ones when it comes to anything.' -0.6\n",
      "b'RT @DrDenaGrayson: BREAKING: The #whistleblowerwho filed a complaint about @realDonaldTrumps extortion of #Ukraines president along wit' -0.3\n",
      "b'RT @DrDenaGrayson: BREAKING: The #whistleblowerwho filed a complaint about @realDonaldTrumps extortion of #Ukraines president along wit' -0.3\n",
      "b'@Gloria57452965 @realDonaldTrump Crazy lady ' -0.6\n",
      "b'RT @SenThomTillis: Nancy Pelosi should be embarrassed. The transcript debunks the Democrats false claims against President @realDonaldTrum' -0.4000000000000001\n",
      "bRT @salis333: @SailFree Nope. I agree 100% Twit Nazi's hard at work to silence us all.  Not gonna happen.  Here to support @realDonaldTrump -0.2916666666666667\n",
      "b'@realDonaldTrump @FreeBeacon Idiot.' -0.8\n",
      "b'RT @SallyDeal4: @realDonaldTrump How weird for you to site a source rated MIXED in factual reporting. \\n\\nTHIS  comes from a RIGHT-LEANING' -0.25\n",
      "b'RT @GovMikeHuckabee: Just read Ukraine transcript.  Its bad! Very very bad! For Joe Biden.  But @realDonaldTrump didnt once offer aid for' -0.9374999999999999\n",
      "b'RT @GovMikeHuckabee: Just read Ukraine transcript.  Its bad! Very very bad! For Joe Biden.  But @realDonaldTrump didnt once offer aid for' -0.9374999999999999\n",
      "b'RT @DrDenaGrayson: BREAKING: The #whistleblowerwho filed a complaint about @realDonaldTrumps extortion of #Ukraines president along wit' -0.3\n",
      "b'RT @thetoyman1: #Tucker Talking #Schiff4Brains and his FALSE comments on @realDonaldTrump! Schiff is a liar leaker &amp; know to have paid off' -0.5000000000000001\n",
      "b'RT @T_WWG1WGA: Reporter Asks @realDonaldTrump  Do You Think Hillary\\'s Emails Are In Ukraine?\\n@POTUS says You Mean The 33,000 emails She' -0.3125\n",
      "bRT @dequately: @tedlieu @MalcolmNance @realDonaldTrump Shockingly, Barr's DOJ declined to investigate a case that Barr was mentioned in by -1.0\n",
      "b'RT @tracied51: President Trump sounded so tired...so sad when he was doing the Q&amp;A with the press. I cant imagine what he goes through eve' -0.5\n",
      "b'RT @LouDobbs: President @realDonaldTrump shows his strength while the Party of Hate continues their harassment. Joe diGenova &amp; @VicToensing' -0.8\n",
      "b'RT @SenThomTillis: Nancy Pelosi should be embarrassed. The transcript debunks the Democrats false claims against President @realDonaldTrum' -0.4000000000000001\n",
      "b'RT @Rightwingmadman: @realDonaldTrump @FreeBeacon Game changer. But the fact that Democrats still insist on release of the whistleblower' -0.4\n",
      "b'@MatthewJshow @SexCounseling @realDonaldTrump @GOPLeader Are you serious?' -0.3333333333333333\n",
      "b'RT @tracied51: President Trump sounded so tired...so sad when he was doing the Q&amp;A with the press. I cant imagine what he goes through eve' -0.5\n",
      "b'RT @SenThomTillis: Nancy Pelosi should be embarrassed. The transcript debunks the Democrats false claims against President @realDonaldTrum' -0.4000000000000001\n",
      "b'@GOPLeader @realDonaldTrump @JudiciaryGOP @HouseGOP Idiot!' -1.0\n",
      "b'RT @ToxicExplodley: @larsp2740 @RepRickAllen @realDonaldTrump There is no quid pro quo. The US has an obligation to investigate illegal act' -0.5\n",
      "b'@realDonaldTrump @GOPLeader BUT WHATABOUT! BUT WHATABOUT!....Blah blah blah. Get bent crazy man.' -0.6\n",
      "b'RT @SenThomTillis: Nancy Pelosi should be embarrassed. The transcript debunks the Democrats false claims against President @realDonaldTrum' -0.4000000000000001\n",
      "b'RT @DrDenaGrayson: BREAKING: The #whistleblowerwho filed a complaint about @realDonaldTrumps extortion of #Ukraines president along wit' -0.3\n",
      "b'@realDonaldTrump Bull. You dont even know what you are talking about. Useless pawn.' -0.5\n",
      "b@TractorWrangler @realDonaldTrump Is there a point here somewhere? And I'm still looking for the part where I'm wrong... -0.5\n",
      "b'RT @T_WWG1WGA: Reporter Asks @realDonaldTrump  Do You Think Hillary\\'s Emails Are In Ukraine?\\n@POTUS says You Mean The 33,000 emails She' -0.3125\n",
      "b'@karenmarcano20 @JulioBorges @realDonaldTrump @jguaido Ud tan hermosa y chavista que defecto tan horrible' -1.0\n",
      "b'@realDonaldTrump Distract, change subject, distract, make false accusations, distract again...#grabpussy' -0.2833333333333334\n",
      "b'RT @SenThomTillis: Nancy Pelosi should be embarrassed. The transcript debunks the Democrats false claims against President @realDonaldTrum' -0.4000000000000001\n",
      "b@jamesbc81 @MatthewJshow @realDonaldTrump @FreeBeacon I heard his lawyer got a Popeye's chicken sandwich! -0.75\n",
      "b'RT @DrDenaGrayson: BREAKING: The #whistleblowerwho filed a complaint about @realDonaldTrumps extortion of #Ukraines president along wit' -0.3\n",
      "b'@cindyhydesmith @realDonaldTrump You are so very wrong!' -0.8125\n",
      "b'@realDonaldTrump ..well, gosh another unlikely coincidence' -0.5\n",
      "b'@SoarOnTheWings @IlhanMN @SpeakerPelosi @realDonaldTrump Shes a disgusting anti American. Her tone is short. Shell be voted out.' -0.3333333333333333\n",
      "b'RT @BrandonStraka: Please retweet...\\nTomi Lahren &amp; I share a common background. We both come from midwestern cattle ranching families. @rea' -0.3\n",
      "b'RT @CherylandCody: @prayingmedic @Steel19741 @realDonaldTrump Believe me, I am frustrated too. I used to work in Corporate and I understand' -0.35\n",
      "b'RT @BrandonStraka: Please retweet...\\nTomi Lahren &amp; I share a common background. We both come from midwestern cattle ranching families. @rea' -0.3\n",
      "b'RT @je_mclaughlin: If any representive is stunned by the corrupt, cruel, and crazy @realDonaldTrump who is a proven bald-faced liar and che' -0.7000000000000001\n",
      "b'RT @TheRealTBone: Wow! Pathetic @realDonaldTrump is being such a whiny little bitch talking about lives ruined by investigations. They knew' -0.265625\n",
      "b'RT @SeguraYoandra: Waiting time is very painful, 15 months only for the interview in Guyana, We do not want diplomatic relations we want ou' -0.45499999999999996\n",
      "b'Can some explain to me wtf is wrong with @RickSantorum this clown is still arguing in the defence of @realDonaldTrump' -0.5\n",
      "b'RT @GovMikeHuckabee: Just read Ukraine transcript.  Its bad! Very very bad! For Joe Biden.  But @realDonaldTrump didnt once offer aid for' -0.9374999999999999\n",
      "b'RT @StevenBeschloss: Poor Donald, who imagines hes been treated worse than Lincoln or JFK, who cries this should never be allowed to happ' -0.4\n",
      "b'RT @T_WWG1WGA: Reporter Asks @realDonaldTrump  Do You Think Hillary\\'s Emails Are In Ukraine?\\n@POTUS says You Mean The 33,000 emails She' -0.3125\n",
      "b'RT @BrandonStraka: Please retweet...\\nTomi Lahren &amp; I share a common background. We both come from midwestern cattle ranching families. @rea' -0.3\n",
      "b'RT @Qanon76: @realDonaldTrump The information that will become public will further demonstrate the criminal &amp; corrupt [pure evil] abuse of' -0.28095238095238095\n"
     ]
    }
   ],
   "source": [
    "# Loop through sentiments and look for negative sentiments. \n",
    "for i in range(len(sentiments)):\n",
    "    if sentiments[i] <= -0.25 and 'http' not in tweets_text[i]:\n",
    "        print(tweets_text[i], sentiments[i])"
   ]
  },
  {
   "cell_type": "markdown",
   "metadata": {},
   "source": [
    "Let's look at the postive ones, too.  We'll define positive as greater than or equal to 0.25."
   ]
  },
  {
   "cell_type": "code",
   "execution_count": 59,
   "metadata": {},
   "outputs": [
    {
     "name": "stdout",
     "output_type": "stream",
     "text": [
      "b'RT @realFFK: Bible says surely they shall gather but it shall not be of me:whoever gathers against thee shall be scattered for thy sake!' 0.625\n",
      "b'RT @kat2020maga: Listening to our wonderful President right now, talking about how the press didnt cover all the great things he accomplis' 0.6952380952380951\n",
      "b'@mamiefishes @tedlieu @realDonaldTrump @POTUS Good comeback.' 0.7\n",
      "b'RT @CameronLMitchel: @ProudResister @SpeakerPelosi @HouseDemocrats President Pelosi has a nice ring \\n\\n@SpeakerPelosi \\n@realDonaldTrump @VP' 0.6\n",
      "bRT @Franklin_Graham: It's rare to hear of a politician who's concerned about dividing the country, isn't it? Dem. Pres. Candidate @TulsiGab 0.3\n",
      "b'RT @RepJeffDuncan: None of what Democrats said happened on the call between @realDonaldTrump &amp; Ukrainian President Zelensky was true. No qu' 0.35\n",
      "b'@KimStrassel @realDonaldTrump No! The REAL STORY is, the transcript is as phony as tRump!' 0.25\n",
      "b'RT @RepJeffDuncan: None of what Democrats said happened on the call between @realDonaldTrump &amp; Ukrainian President Zelensky was true. No qu' 0.35\n",
      "b'RT @SJ4TRUMP: Today is a good day for @MittRomney to apologize to @realDonaldTrump. Who agrees with me?' 0.7\n",
      "b'RT @adilator: @MarkDice @AndrewGillum @realDonaldTrump I think even an unemployed bum has more value to this world than you do let alone a' 0.5\n",
      "b'@RealCandaceO @realDonaldTrump Candace, I admire you. You are so right. We the PEOPLE are praying for you and your safety.' 0.2857142857142857\n",
      "b'RT @OnePOAmerican65: @MichaelDadiego @Barracuda_Bella @realDonaldTrump @seanhannity @SpeakerPelosi @SenSchumer So true. ' 0.35\n",
      "b'@w_terrence @realDonaldTrump Omg!!!! So funny!!!! ' 0.6103515625\n",
      "b'@GOPLeader @chrisreed43 @realDonaldTrump @JudiciaryGOP @HouseGOP You are the best!' 1.0\n",
      "b'RT @RepJeffDuncan: None of what Democrats said happened on the call between @realDonaldTrump &amp; Ukrainian President Zelensky was true. No qu' 0.35\n",
      "b'@Layla_Shadilay @ScottMaga2A @SpeakerPelosi @dash_bandy @realDonaldTrump Lol. Sure it has. Trumps always wanted to be impeached. \\n\\n#Cult45' 0.65\n",
      "b'RT @RepSwalwell: I would like you to do us a favor...whatever you can do with [Barr] would be great. This #UkraineTranscript is @realDo' 0.8\n",
      "b'@lesleyabravanel @LindseyGrahamSC @realDonaldTrump This was a good one! ' 0.875\n",
      "b'@w_terrence @realDonaldTrump @TeamTrump LOVE THIS' 0.5\n",
      "b'@DineshDSouza @realDonaldTrump So true' 0.35\n",
      "b'@beadluv @JLD38e88 @SpeakerPelosi @realDonaldTrump Oh thats a good one...not' 0.7\n",
      "b'@DiamondandSilk @realDonaldTrump And I hope you find better heros' 0.5\n",
      "b'RT @SamanthaJPower: That @realDonaldTrump thought it a good idea to release this transcript is a staggering testament to the endemic corrup' 0.7\n",
      "b'RT @almostjingo: Pretend for a moment that @realDonaldTrump and @GOP were hacked and they said no, it\\'s cool we figured it out we have our' 0.35\n",
      "b'RT @DeplorableChoir: Donald Trump you are our HERO! \\n\\nYou gave up a perfectly happy and successful life to try and make America better! \\n\\nI' 0.725\n",
      "b'RT @ChatByCC: @realDonaldTrump Follow the lead of President Trump. He is calm, cool and confident. \\n\\nHe outsmarts them every day. More impo' 0.4125\n",
      "b'RT @RepJeffDuncan: None of what Democrats said happened on the call between @realDonaldTrump &amp; Ukrainian President Zelensky was true. No qu' 0.35\n",
      "bRT @AllensOpEd: .@LindseyGrahamSC calls the Ukraine transcript 'very appropriate.'\\n\\nI wonder how many 'inappropriate' compromising images a 0.575\n",
      "b'@dad_darius @realDonaldTrump It was outstanding! Nicolle Wallace is not playin...' 0.625\n",
      "b'RT @TeamTrump: The Democrats did this hoax during the United Nations week. It was perfect because this way it takes away from the tremendo' 1.0\n",
      "b'@suhee001 @WhiteHouse @realDonaldTrump @suhee001 You think this will help you liberals win the election?' 0.8\n",
      "b'RT @GovernorLittle: More great trade news from the Trump administration! The open door between Japan and the United States is good for Idah' 0.55\n",
      "b@realDonaldTrump @GOPLeader He did and is doing exactly what he said he would do. He's DRAINING THE SWAMP ! 0.3125\n",
      "b'RT @GovMikeDeWine: Todays  agreement between the U.S. and #Japan is great news for #Ohio farmers.  Japan is Ohios 5th largest export mark' 0.8\n",
      "bRT @JessieJaneDuff: So, Nancy slipped and the truth came out.\\n\\nDemocrats know they can't win so they'll pull every slick trick in the book 0.275\n",
      "b'@realDonaldTrump love ya Trump keep the good job may God bless you and keep you always' 0.6\n",
      "b'RT @GovMikeDeWine: Todays  agreement between the U.S. and #Japan is great news for #Ohio farmers.  Japan is Ohios 5th largest export mark' 0.8\n",
      "b'RT @c11blb: @tracied51 @browngravy_93 @realDonaldTrump   best President ever' 1.0\n",
      "b'@AndrewGillum @realDonaldTrump Best self-own ever.' 1.0\n",
      "b'@realDonaldTrump In the old days traitors were hung, you should consider harrasment getting off easy.' 0.26666666666666666\n",
      "b'RT @Electra661: Yes he is lol. Hes planning to #LockHerUp . You are Her. Thats your Harsh Reality.  @realDonaldTrump #KAG2020 #Trump' 0.30000000000000004\n",
      "b'RT @RepJeffDuncan: None of what Democrats said happened on the call between @realDonaldTrump &amp; Ukrainian President Zelensky was true. No qu' 0.35\n",
      "b'RT @SenSchumer: Youre right that our service members and their families shouldnt be punished, @SenateMajLdr McConnell.\\n \\nSo why didnt yo' 0.2857142857142857\n",
      "b'@LindseyGrahamSC @realDonaldTrump To lose your mind you must first have one, and they dont.' 0.25\n",
      "bRT @JanJekielek: @BillGertz @realDonaldTrump The most important thing [@realDonaldTrump's administration] could do right now would be to p 0.3952380952380952\n",
      "b'@SenThomTillis @realDonaldTrump Enjoy your impending retirement @SenThomTillis' 0.4\n",
      "b'RT @ScottPresler: @realDonaldTrump President Trump has already raised $204 Million, which is more than all of the democrats combined. \\n\\nEve' 0.5\n",
      "b'RT @timth2lman: @parscale @realDonaldTrump @GOP Wooohooo...lets get on the Trump Train!!! #Winning #KAG2020Landslide' 0.5\n",
      "b'@Manny_Funes @realDonaldTrump You do realize this is a Borowitz article- i.e. parody- right?' 0.2857142857142857\n",
      "b@SenThomTillis @realDonaldTrump No it doesn't. Reading comprehension not your strong point, I see. Nor much of anything else. 0.31666666666666665\n",
      "b'RT @SenSchumer: Youre right that our service members and their families shouldnt be punished, @SenateMajLdr McConnell.\\n \\nSo why didnt yo' 0.2857142857142857\n",
      "b'RT @farmerfar55: @DougKlaaJohnson America was at it greatest before the #Progressive era! @realDonaldTrump should  #EndTheFed return to the' 1.0\n",
      "b'@MatthewJshow @realDonaldTrump Lol shut up Matt.' 0.8\n",
      "b'RT @GovMikeDeWine: Todays  agreement between the U.S. and #Japan is great news for #Ohio farmers.  Japan is Ohios 5th largest export mark' 0.8\n",
      "b'@Frazierdee @DHuddlestonKY @SebGorka @realDonaldTrump JUDGE NOT, ....LEST YE BE JUDGED BY YOUR OWN JUDGEMENT  !!!!!!!!!!!!' 1.0\n",
      "b'RT @thetoyman1: #Tucker Joe DiGenova on now. He said @realDonaldTrump call with Ukrainian President was perfectly legal; not a crime! @Judg' 0.25\n",
      "b'RT @SenSchumer: Youre right that our service members and their families shouldnt be punished, @SenateMajLdr McConnell.\\n \\nSo why didnt yo' 0.2857142857142857\n",
      "b'RT @RepSwalwell: I would like you to do us a favor...whatever you can do with [Barr] would be great. This #UkraineTranscript is @realDo' 0.8\n",
      "bRT @squanto53: @Sceeter1Stephen I'm a Vet. I thought @realDonaldTrump was a douche bag all along from the very beginning. Like I honestly d 0.4\n",
      "b'RT @GovMikeDeWine: Todays  agreement between the U.S. and #Japan is great news for #Ohio farmers.  Japan is Ohios 5th largest export mark' 0.8\n",
      "b'@SenSchumer @realDonaldTrump Right!' 0.3571428571428571\n",
      "b'RT @TeamTrump: WATCH: @realDonaldTrump talks about how great our country is doing.\\n\\nThe #FakeNews should talk about this, not the nonsense' 0.8\n",
      "b'RT @GovParsonMO: GREAT NEWS for our Missouri farmers, ranchers, and business leaders! President @realDonaldTrump and Prime Minister Abe rea' 1.0\n",
      "b@Roscoe_Notrub @NancyLeeGrahn @SpeakerPelosi @realDonaldTrump I'm glad you're hopeful. 0.5\n",
      "b'@real_defender @realDonaldTrump @FreeBeacon AG Barr may be impeached too.  Better do it fast.' 0.35\n",
      "b'RT @almostjingo: Pretend for a moment that @realDonaldTrump and @GOP were hacked and they said no, it\\'s cool we figured it out we have our' 0.35\n",
      "b'RT @MAGAPILL: @realDonaldTrump President Trump has demonstrated a tremendous amount of patience and restraint while this Witch Hunt has pla' 0.3333333333333333\n",
      "b'RT @sajmay28: Despite all the harassment, our @POTUS is doing a phenomenal job. Can you imagine how much he would do without all the BS #li' 0.35\n",
      "b'@tracied51 @AmericanVotesUS @realDonaldTrump He needs a rally !  We need to do one for him!!  Lol' 0.8\n",
      "b'RT @ConstanceUndone: @RepChuck @realDonaldTrump @POTUS Chuck. You are my representative. I am so embarrassed right now that you would take' 0.2857142857142857\n",
      "b'RT @BowdoinTabatha: @SenSchumer @realDonaldTrump National! Vote Trump 2020!!!! \\nWe love Trump!!!' 0.9765625\n",
      "b'RT @groth1945: @realDonaldTrump  giving press conference ,discussing many topics Ukraine to Impeachment Inquiry,etc . POTUS Said Congressma' 0.5\n",
      "b'RT @govkristinoem: Thrilled to see @realDonaldTrump sign a trade agreement with Japan &amp; take another step toward securing market access for' 0.6\n",
      "b'RT @GovernorLittle: More great trade news from the Trump administration! The open door between Japan and the United States is good for Idah' 0.55\n",
      "b'RT @tedlieu: I served on active duty because America is an exceptional country. We are all Americans.\\n\\n@POTUS should NEVER solicit a foreig' 0.26666666666666666\n",
      "b'@lisastark351 @LindseyGrahamSC @realDonaldTrump Lindsey you know Donald will turn on you too right?' 0.2857142857142857\n",
      "b'RT @weciv01: @ReneeCarrollAZ @manny_ottawa @realDonaldTrump @SundanceConstr1 that is very interesting.' 0.65\n",
      "b'RT @RepJeffDuncan: None of what Democrats said happened on the call between @realDonaldTrump &amp; Ukrainian President Zelensky was true. No qu' 0.35\n",
      "b'@JackPosobiec 6.  Civil war. 7. Democrats create their own country in Venezuela 8. Americans re-elect @realDonaldTrump' 0.6\n"
     ]
    }
   ],
   "source": [
    "# Loop through sentiments and look for positive sentiments. \n",
    "for i in range(len(sentiments)):\n",
    "    if sentiments[i] >= 0.25 and 'http' not in tweets_text[i]:\n",
    "        print(tweets_text[i], sentiments[i])"
   ]
  },
  {
   "cell_type": "markdown",
   "metadata": {},
   "source": [
    "It seems like there might be some false positives in there.  However, it's what we have to work with, so let's get a count of the \"negative\" (-1.00 to -0.25), \"neutral\" (-0.25 to 0.25), and \"positive\" (0.25 to 1.00) tweets."
   ]
  },
  {
   "cell_type": "code",
   "execution_count": 60,
   "metadata": {},
   "outputs": [
    {
     "ename": "TypeError",
     "evalue": "cannot perform reduce with flexible type",
     "output_type": "error",
     "traceback": [
      "\u001b[0;31m---------------------------------------------------------------------------\u001b[0m",
      "\u001b[0;31mTypeError\u001b[0m                                 Traceback (most recent call last)",
      "\u001b[0;32m<ipython-input-60-6e4ab3b6e9a8>\u001b[0m in \u001b[0;36m<module>\u001b[0;34m\u001b[0m\n\u001b[1;32m      9\u001b[0m         \u001b[0mpos_neg_neutral\u001b[0m\u001b[0;34m.\u001b[0m\u001b[0mappend\u001b[0m\u001b[0;34m(\u001b[0m\u001b[0;34m'neutral'\u001b[0m\u001b[0;34m)\u001b[0m\u001b[0;34m\u001b[0m\u001b[0;34m\u001b[0m\u001b[0m\n\u001b[1;32m     10\u001b[0m \u001b[0;34m\u001b[0m\u001b[0m\n\u001b[0;32m---> 11\u001b[0;31m \u001b[0msns\u001b[0m\u001b[0;34m.\u001b[0m\u001b[0mbarplot\u001b[0m\u001b[0;34m(\u001b[0m\u001b[0mnp\u001b[0m\u001b[0;34m.\u001b[0m\u001b[0marray\u001b[0m\u001b[0;34m(\u001b[0m\u001b[0mpos_neg_neutral\u001b[0m\u001b[0;34m)\u001b[0m\u001b[0;34m)\u001b[0m\u001b[0;34m\u001b[0m\u001b[0;34m\u001b[0m\u001b[0m\n\u001b[0m\u001b[1;32m     12\u001b[0m \u001b[0mplt\u001b[0m\u001b[0;34m.\u001b[0m\u001b[0mtitle\u001b[0m\u001b[0;34m(\u001b[0m\u001b[0;34m'Positive, Negative, and Neutral Sentiment'\u001b[0m\u001b[0;34m)\u001b[0m\u001b[0;34m\u001b[0m\u001b[0;34m\u001b[0m\u001b[0m\n\u001b[1;32m     13\u001b[0m \u001b[0mplt\u001b[0m\u001b[0;34m.\u001b[0m\u001b[0mxlabel\u001b[0m\u001b[0;34m(\u001b[0m\u001b[0;34m'Sentiment Category'\u001b[0m\u001b[0;34m)\u001b[0m\u001b[0;34m\u001b[0m\u001b[0;34m\u001b[0m\u001b[0m\n",
      "\u001b[0;32m~/anaconda3/lib/python3.7/site-packages/seaborn/categorical.py\u001b[0m in \u001b[0;36mbarplot\u001b[0;34m(x, y, hue, data, order, hue_order, estimator, ci, n_boot, units, orient, color, palette, saturation, errcolor, errwidth, capsize, dodge, ax, **kwargs)\u001b[0m\n\u001b[1;32m   3147\u001b[0m                           \u001b[0mestimator\u001b[0m\u001b[0;34m,\u001b[0m \u001b[0mci\u001b[0m\u001b[0;34m,\u001b[0m \u001b[0mn_boot\u001b[0m\u001b[0;34m,\u001b[0m \u001b[0munits\u001b[0m\u001b[0;34m,\u001b[0m\u001b[0;34m\u001b[0m\u001b[0;34m\u001b[0m\u001b[0m\n\u001b[1;32m   3148\u001b[0m                           \u001b[0morient\u001b[0m\u001b[0;34m,\u001b[0m \u001b[0mcolor\u001b[0m\u001b[0;34m,\u001b[0m \u001b[0mpalette\u001b[0m\u001b[0;34m,\u001b[0m \u001b[0msaturation\u001b[0m\u001b[0;34m,\u001b[0m\u001b[0;34m\u001b[0m\u001b[0;34m\u001b[0m\u001b[0m\n\u001b[0;32m-> 3149\u001b[0;31m                           errcolor, errwidth, capsize, dodge)\n\u001b[0m\u001b[1;32m   3150\u001b[0m \u001b[0;34m\u001b[0m\u001b[0m\n\u001b[1;32m   3151\u001b[0m     \u001b[0;32mif\u001b[0m \u001b[0max\u001b[0m \u001b[0;32mis\u001b[0m \u001b[0;32mNone\u001b[0m\u001b[0;34m:\u001b[0m\u001b[0;34m\u001b[0m\u001b[0;34m\u001b[0m\u001b[0m\n",
      "\u001b[0;32m~/anaconda3/lib/python3.7/site-packages/seaborn/categorical.py\u001b[0m in \u001b[0;36m__init__\u001b[0;34m(self, x, y, hue, data, order, hue_order, estimator, ci, n_boot, units, orient, color, palette, saturation, errcolor, errwidth, capsize, dodge)\u001b[0m\n\u001b[1;32m   1607\u001b[0m                                  order, hue_order, units)\n\u001b[1;32m   1608\u001b[0m         \u001b[0mself\u001b[0m\u001b[0;34m.\u001b[0m\u001b[0mestablish_colors\u001b[0m\u001b[0;34m(\u001b[0m\u001b[0mcolor\u001b[0m\u001b[0;34m,\u001b[0m \u001b[0mpalette\u001b[0m\u001b[0;34m,\u001b[0m \u001b[0msaturation\u001b[0m\u001b[0;34m)\u001b[0m\u001b[0;34m\u001b[0m\u001b[0;34m\u001b[0m\u001b[0m\n\u001b[0;32m-> 1609\u001b[0;31m         \u001b[0mself\u001b[0m\u001b[0;34m.\u001b[0m\u001b[0mestimate_statistic\u001b[0m\u001b[0;34m(\u001b[0m\u001b[0mestimator\u001b[0m\u001b[0;34m,\u001b[0m \u001b[0mci\u001b[0m\u001b[0;34m,\u001b[0m \u001b[0mn_boot\u001b[0m\u001b[0;34m)\u001b[0m\u001b[0;34m\u001b[0m\u001b[0;34m\u001b[0m\u001b[0m\n\u001b[0m\u001b[1;32m   1610\u001b[0m \u001b[0;34m\u001b[0m\u001b[0m\n\u001b[1;32m   1611\u001b[0m         \u001b[0mself\u001b[0m\u001b[0;34m.\u001b[0m\u001b[0mdodge\u001b[0m \u001b[0;34m=\u001b[0m \u001b[0mdodge\u001b[0m\u001b[0;34m\u001b[0m\u001b[0;34m\u001b[0m\u001b[0m\n",
      "\u001b[0;32m~/anaconda3/lib/python3.7/site-packages/seaborn/categorical.py\u001b[0m in \u001b[0;36mestimate_statistic\u001b[0;34m(self, estimator, ci, n_boot)\u001b[0m\n\u001b[1;32m   1491\u001b[0m                     \u001b[0mstatistic\u001b[0m\u001b[0;34m.\u001b[0m\u001b[0mappend\u001b[0m\u001b[0;34m(\u001b[0m\u001b[0mnp\u001b[0m\u001b[0;34m.\u001b[0m\u001b[0mnan\u001b[0m\u001b[0;34m)\u001b[0m\u001b[0;34m\u001b[0m\u001b[0;34m\u001b[0m\u001b[0m\n\u001b[1;32m   1492\u001b[0m                 \u001b[0;32melse\u001b[0m\u001b[0;34m:\u001b[0m\u001b[0;34m\u001b[0m\u001b[0;34m\u001b[0m\u001b[0m\n\u001b[0;32m-> 1493\u001b[0;31m                     \u001b[0mstatistic\u001b[0m\u001b[0;34m.\u001b[0m\u001b[0mappend\u001b[0m\u001b[0;34m(\u001b[0m\u001b[0mestimator\u001b[0m\u001b[0;34m(\u001b[0m\u001b[0mstat_data\u001b[0m\u001b[0;34m)\u001b[0m\u001b[0;34m)\u001b[0m\u001b[0;34m\u001b[0m\u001b[0;34m\u001b[0m\u001b[0m\n\u001b[0m\u001b[1;32m   1494\u001b[0m \u001b[0;34m\u001b[0m\u001b[0m\n\u001b[1;32m   1495\u001b[0m                 \u001b[0;31m# Get a confidence interval for this estimate\u001b[0m\u001b[0;34m\u001b[0m\u001b[0;34m\u001b[0m\u001b[0;34m\u001b[0m\u001b[0m\n",
      "\u001b[0;32m~/anaconda3/lib/python3.7/site-packages/numpy/core/fromnumeric.py\u001b[0m in \u001b[0;36mmean\u001b[0;34m(a, axis, dtype, out, keepdims)\u001b[0m\n\u001b[1;32m   3116\u001b[0m \u001b[0;34m\u001b[0m\u001b[0m\n\u001b[1;32m   3117\u001b[0m     return _methods._mean(a, axis=axis, dtype=dtype,\n\u001b[0;32m-> 3118\u001b[0;31m                           out=out, **kwargs)\n\u001b[0m\u001b[1;32m   3119\u001b[0m \u001b[0;34m\u001b[0m\u001b[0m\n\u001b[1;32m   3120\u001b[0m \u001b[0;34m\u001b[0m\u001b[0m\n",
      "\u001b[0;32m~/anaconda3/lib/python3.7/site-packages/numpy/core/_methods.py\u001b[0m in \u001b[0;36m_mean\u001b[0;34m(a, axis, dtype, out, keepdims)\u001b[0m\n\u001b[1;32m     73\u001b[0m             \u001b[0mis_float16_result\u001b[0m \u001b[0;34m=\u001b[0m \u001b[0;32mTrue\u001b[0m\u001b[0;34m\u001b[0m\u001b[0;34m\u001b[0m\u001b[0m\n\u001b[1;32m     74\u001b[0m \u001b[0;34m\u001b[0m\u001b[0m\n\u001b[0;32m---> 75\u001b[0;31m     \u001b[0mret\u001b[0m \u001b[0;34m=\u001b[0m \u001b[0mumr_sum\u001b[0m\u001b[0;34m(\u001b[0m\u001b[0marr\u001b[0m\u001b[0;34m,\u001b[0m \u001b[0maxis\u001b[0m\u001b[0;34m,\u001b[0m \u001b[0mdtype\u001b[0m\u001b[0;34m,\u001b[0m \u001b[0mout\u001b[0m\u001b[0;34m,\u001b[0m \u001b[0mkeepdims\u001b[0m\u001b[0;34m)\u001b[0m\u001b[0;34m\u001b[0m\u001b[0;34m\u001b[0m\u001b[0m\n\u001b[0m\u001b[1;32m     76\u001b[0m     \u001b[0;32mif\u001b[0m \u001b[0misinstance\u001b[0m\u001b[0;34m(\u001b[0m\u001b[0mret\u001b[0m\u001b[0;34m,\u001b[0m \u001b[0mmu\u001b[0m\u001b[0;34m.\u001b[0m\u001b[0mndarray\u001b[0m\u001b[0;34m)\u001b[0m\u001b[0;34m:\u001b[0m\u001b[0;34m\u001b[0m\u001b[0;34m\u001b[0m\u001b[0m\n\u001b[1;32m     77\u001b[0m         ret = um.true_divide(\n",
      "\u001b[0;31mTypeError\u001b[0m: cannot perform reduce with flexible type"
     ]
    }
   ],
   "source": [
    "# Loop through all of the sentiments and put them into the appropriate group\n",
    "pos_neg_neutral = []\n",
    "for sentiment in sentiments:\n",
    "    if sentiment <= -0.25:\n",
    "        pos_neg_neutral.append('negative')\n",
    "    elif sentiment >= 0.25:\n",
    "        pos_neg_neutral.append('positive')\n",
    "    elif sentiment > -0.25 and sentiment < 0.25:\n",
    "        pos_neg_neutral.append('neutral')\n",
    "\n",
    "sns.barplot(np.array(pos_neg_neutral))\n",
    "plt.title('Positive, Negative, and Neutral Sentiment')\n",
    "plt.xlabel('Sentiment Category')\n",
    "plt.ylabel('Frequency')"
   ]
  },
  {
   "cell_type": "markdown",
   "metadata": {},
   "source": [
    "We can see that most tweets are neutral, but there are far more positive tweets than negative tweets."
   ]
  },
  {
   "cell_type": "markdown",
   "metadata": {},
   "source": [
    "## Conclusion"
   ]
  },
  {
   "cell_type": "markdown",
   "metadata": {},
   "source": [
    "We've made a few interesting discoveries here, but there is a lot more that could be explored.  You could collect more data, look at the sentiment for specific topics, track topic velocity over time, explore more complex topic modeling, and much more.  Natural Language Processing is a vast field with many subareas.  We've provided some links on the DAT5 readme to help you explore it more deeply."
   ]
  }
 ],
 "metadata": {
  "kernelspec": {
   "display_name": "Python 3",
   "language": "python",
   "name": "python3"
  },
  "language_info": {
   "codemirror_mode": {
    "name": "ipython",
    "version": 3
   },
   "file_extension": ".py",
   "mimetype": "text/x-python",
   "name": "python",
   "nbconvert_exporter": "python",
   "pygments_lexer": "ipython3",
   "version": "3.7.3"
  }
 },
 "nbformat": 4,
 "nbformat_minor": 1
}
